{
 "cells": [
  {
   "cell_type": "code",
   "execution_count": 23,
   "id": "978df94b",
   "metadata": {},
   "outputs": [],
   "source": [
    "def solution(s):\n",
    "    answer = 0\n",
    "    count=0\n",
    "    an_1=\"\"\n",
    "    an_2=\"\"\n",
    "    an_3=\"\"\n",
    "    \n",
    "    for i in range(len(s)-2):\n",
    "        if s[0] ==\"]\" or s[0]==\")\" or s[0]==\"}\": break\n",
    "        elif s[-1] ==\"]\" or s[-1]==\")\" or s[-1]==\"}\": break\n",
    "        else:\n",
    "            for k in range(len(s)):\n",
    "                \n",
    "             \n",
    "        an=s[i:i+2]\n",
    "        if an== \"[]\" or an ==\"()\" or an==\"{}\": \n",
    "            count+=1\n",
    "            \n",
    "    if count>=1 : answer+=1\n",
    "        \n",
    "    count=0\n",
    "    temp=s\n",
    "    for i in range(len(s)-2):\n",
    "        temp=temp[1:]+temp[:1]\n",
    "        count=0\n",
    "        for k in range(len(temp)):\n",
    "            if s[0] ==\"]\" or s[0]==\")\" or s[0]==\"}\": continue\n",
    "            elif s[-1] ==\"]\" or s[-1]==\")\" or s[-1]==\"}\": continue\n",
    "                \n",
    "            an=s[i:i+2]\n",
    "            if an== \"[]\" or an ==\"()\" or an==\"{}\": \n",
    "                count+=1\n",
    "            \n",
    "        if count>=1 : answer+=1\n",
    "            \n",
    "            \n",
    "        \n",
    "    return answer"
   ]
  },
  {
   "cell_type": "code",
   "execution_count": 30,
   "id": "93482823",
   "metadata": {},
   "outputs": [],
   "source": [
    "def solution(s):\n",
    "    answer = 0\n",
    "    count=0\n",
    "    an_1=\"\"\n",
    "    an_2=\"\"\n",
    "    an_3=\"\"\n",
    "    \n",
    "    for i in range(len(s)):\n",
    "        if s[0] ==\"]\" or s[0]==\")\" or s[0]==\"}\": break\n",
    "        elif s[-1] ==\"[\" or s[-1]==\"(\" or s[-1]==\"{\": break\n",
    "        else:\n",
    "            for g in range(len(s)):\n",
    "                for k in range(len(s)-1):\n",
    "                    if s[g]==\"[\"\n",
    "                \n",
    "            count+=1\n",
    "            \n",
    "    if count>=1 : answer+=1\n",
    "        \n",
    "    count=0\n",
    "    temp=s\n",
    "    \n",
    "    for i in range(len(s)-1):\n",
    "        temp=temp[1:]+temp[:1]\n",
    "        count=0\n",
    "        for k in range(len(temp)):\n",
    "            if temp[0] ==\"]\" or temp[0]==\")\" or temp[0]==\"}\": continue\n",
    "            elif temp[-1] ==\"[\" or temp[-1]==\"(\" or temp[-1]==\"{\": continue\n",
    "            else: count+=1\n",
    "            \n",
    "        if count>=1 : answer+=1\n",
    "            \n",
    "            \n",
    "        \n",
    "    return answer"
   ]
  },
  {
   "cell_type": "code",
   "execution_count": 31,
   "id": "13d3dc84",
   "metadata": {},
   "outputs": [
    {
     "data": {
      "text/plain": [
       "3"
      ]
     },
     "execution_count": 31,
     "metadata": {},
     "output_type": "execute_result"
    }
   ],
   "source": [
    "solution(\"[](){}\")"
   ]
  },
  {
   "cell_type": "code",
   "execution_count": 32,
   "id": "eef42d75",
   "metadata": {},
   "outputs": [
    {
     "data": {
      "text/plain": [
       "2"
      ]
     },
     "execution_count": 32,
     "metadata": {},
     "output_type": "execute_result"
    }
   ],
   "source": [
    "solution(\"}]()[{\")"
   ]
  },
  {
   "cell_type": "code",
   "execution_count": 33,
   "id": "f128acff",
   "metadata": {},
   "outputs": [
    {
     "data": {
      "text/plain": [
       "2"
      ]
     },
     "execution_count": 33,
     "metadata": {},
     "output_type": "execute_result"
    }
   ],
   "source": [
    "solution(\"[)(]\")"
   ]
  },
  {
   "cell_type": "code",
   "execution_count": 34,
   "id": "4c99e432",
   "metadata": {},
   "outputs": [
    {
     "data": {
      "text/plain": [
       "0"
      ]
     },
     "execution_count": 34,
     "metadata": {},
     "output_type": "execute_result"
    }
   ],
   "source": [
    "solution(\"}}}\")"
   ]
  },
  {
   "cell_type": "code",
   "execution_count": 20,
   "id": "205cbf73",
   "metadata": {},
   "outputs": [],
   "source": [
    "#문자열 왼쪽으로 원하는 개수만큼 회전\n",
    "def rotate_right(s, n):\n",
    "    return s[n:] + s[:n]\n",
    "\n",
    "#문자열 오른쪽으로 원하는 개수만큼 회전\n",
    "def rotate_right(s, n):\n",
    "    return s[-n:] + s[:-n]"
   ]
  },
  {
   "cell_type": "code",
   "execution_count": 35,
   "id": "ff51912e",
   "metadata": {},
   "outputs": [],
   "source": [
    "def check(s):\n",
    "    while True:\n",
    "        if '()' not in s and '[]' not in s and '{}' not in s:\n",
    "            break\n",
    "        s = s.replace('()', '')\n",
    "        s = s.replace('[]', '')\n",
    "        s = s.replace('{}', '')\n",
    "    return 1 if len(s) == 0 else 0\n",
    "\n",
    "def solution(s):\n",
    "    answer = 0\n",
    "\n",
    "    for i in range(len(s)):\n",
    "        answer += check(s)\n",
    "        s = s[1:] + s[0]\n",
    "\n",
    "    return answer"
   ]
  },
  {
   "cell_type": "code",
   "execution_count": 63,
   "id": "65ea58ce",
   "metadata": {},
   "outputs": [],
   "source": [
    "def solution(n, left, right):\n",
    "    answer = []\n",
    "\n",
    "    for i in range(left, right+1):\n",
    "        q, r = divmod(i, n)\n",
    "\n",
    "        answer.append(max(q, r) + 1)\n",
    "\n",
    "\n",
    "\n",
    "\n",
    "    return answer\n"
   ]
  },
  {
   "cell_type": "code",
   "execution_count": 64,
   "id": "a9611830",
   "metadata": {},
   "outputs": [
    {
     "data": {
      "text/plain": [
       "[3, 2, 2, 3]"
      ]
     },
     "execution_count": 64,
     "metadata": {},
     "output_type": "execute_result"
    }
   ],
   "source": [
    "solution(3,2,5)"
   ]
  },
  {
   "cell_type": "code",
   "execution_count": 65,
   "id": "c833f751",
   "metadata": {},
   "outputs": [
    {
     "data": {
      "text/plain": [
       "[4, 3, 3, 3, 4, 4, 4, 4]"
      ]
     },
     "execution_count": 65,
     "metadata": {},
     "output_type": "execute_result"
    }
   ],
   "source": [
    "solution(4,7,14)"
   ]
  },
  {
   "cell_type": "code",
   "execution_count": 66,
   "id": "b8a0a325",
   "metadata": {},
   "outputs": [
    {
     "ename": "SyntaxError",
     "evalue": "invalid syntax (3382902560.py, line 1)",
     "output_type": "error",
     "traceback": [
      "\u001b[1;36m  Input \u001b[1;32mIn [66]\u001b[1;36m\u001b[0m\n\u001b[1;33m    123 233 333\u001b[0m\n\u001b[1;37m        ^\u001b[0m\n\u001b[1;31mSyntaxError\u001b[0m\u001b[1;31m:\u001b[0m invalid syntax\n"
     ]
    }
   ],
   "source": [
    "123 233 333\n",
    "1234 2234 3334 4444\n",
    "12345 22345 33345 44445 55555"
   ]
  },
  {
   "cell_type": "code",
   "execution_count": null,
   "id": "9f5d0668",
   "metadata": {},
   "outputs": [],
   "source": []
  }
 ],
 "metadata": {
  "kernelspec": {
   "display_name": "Python 3 (ipykernel)",
   "language": "python",
   "name": "python3"
  },
  "language_info": {
   "codemirror_mode": {
    "name": "ipython",
    "version": 3
   },
   "file_extension": ".py",
   "mimetype": "text/x-python",
   "name": "python",
   "nbconvert_exporter": "python",
   "pygments_lexer": "ipython3",
   "version": "3.9.12"
  }
 },
 "nbformat": 4,
 "nbformat_minor": 5
}
