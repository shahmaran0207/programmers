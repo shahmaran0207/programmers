{
 "cells": [
  {
   "cell_type": "code",
   "execution_count": 3,
   "id": "2da5bd2e",
   "metadata": {},
   "outputs": [],
   "source": [
    "def solution(n,a,b):\n",
    "    # 발생할 수 있는 최대 라운드 수 계산\n",
    "    max_round = 0\n",
    "    while 2 ** max_round < n:\n",
    "        max_round += 1\n",
    "    \n",
    "    # 이진 탐색 적용\n",
    "    a, b = min(a, b), max(a, b)  # 큰 수, 작은 수 구분\n",
    "    mid = n // 2  # 최초 중간값\n",
    "    lower = 0  # 최초 최소값\n",
    "    upper = n  # 최초 최대값\n",
    "    \n",
    "    while True:\n",
    "        # 탈출 조건 // 두 수가 포함된 라운드가 서로 다를 경우\n",
    "        if a <= mid and b > mid:\n",
    "            break\n",
    "        # 작은 수가 중간값보다 클 경우(라운드에서 두 수가 같은 그룹에 있을 경우)\n",
    "        elif a >= mid:\n",
    "            lower = mid\n",
    "            mid = (mid + upper) // 2\n",
    "            max_round -= 1  # 라운드값 -1\n",
    "        # 큰 수가 중간값보다 작거나 같을 경우(라운드에서 두 수가 같은 그룹에 있을 경우)\n",
    "        elif b <= mid:\n",
    "            upper = mid\n",
    "            mid = (mid + lower) // 2\n",
    "            max_round -= 1  # 라운드값 -1\n",
    "            \n",
    "    return max_round"
   ]
  },
  {
   "cell_type": "code",
   "execution_count": 4,
   "id": "fa5cf1d3",
   "metadata": {},
   "outputs": [
    {
     "data": {
      "text/plain": [
       "3"
      ]
     },
     "execution_count": 4,
     "metadata": {},
     "output_type": "execute_result"
    }
   ],
   "source": [
    "solution(8,4,7)"
   ]
  },
  {
   "cell_type": "code",
   "execution_count": 7,
   "id": "89a54914",
   "metadata": {},
   "outputs": [],
   "source": [
    "import collections\n",
    "def solution(k, tangerine):\n",
    "    answer = 0\n",
    "    cnt = collections.Counter(tangerine) #counter 함수를 통해 개수를 세는 것\n",
    "\n",
    "    for v in sorted(cnt.values(), reverse = True):\n",
    "        k -= v\n",
    "        answer += 1\n",
    "        if k <= 0:\n",
    "            break\n",
    "    return answer\n"
   ]
  },
  {
   "cell_type": "code",
   "execution_count": 8,
   "id": "179f8dc8",
   "metadata": {},
   "outputs": [
    {
     "data": {
      "text/plain": [
       "2"
      ]
     },
     "execution_count": 8,
     "metadata": {},
     "output_type": "execute_result"
    }
   ],
   "source": [
    "solution(3,[1, 3, 2, 5, 4, 5, 2, 3])"
   ]
  },
  {
   "cell_type": "code",
   "execution_count": null,
   "id": "06bcc16d",
   "metadata": {},
   "outputs": [],
   "source": []
  }
 ],
 "metadata": {
  "kernelspec": {
   "display_name": "Python 3 (ipykernel)",
   "language": "python",
   "name": "python3"
  },
  "language_info": {
   "codemirror_mode": {
    "name": "ipython",
    "version": 3
   },
   "file_extension": ".py",
   "mimetype": "text/x-python",
   "name": "python",
   "nbconvert_exporter": "python",
   "pygments_lexer": "ipython3",
   "version": "3.9.12"
  }
 },
 "nbformat": 4,
 "nbformat_minor": 5
}
