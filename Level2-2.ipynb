{
 "cells": [
  {
   "cell_type": "markdown",
   "id": "56f309ca-5a36-44cb-af60-c986d3290d3d",
   "metadata": {},
   "source": [
    "자연수 n이 주어졌을 때, n의 다음 큰 숫자는 다음과 같이 정의 합니다.\n",
    "\n",
    "조건 1. n의 다음 큰 숫자는 n보다 큰 자연수 입니다.\n",
    "조건 2. n의 다음 큰 숫자와 n은 2진수로 변환했을 때 1의 갯수가 같습니다.\n",
    "조건 3. n의 다음 큰 숫자는 조건 1, 2를 만족하는 수 중 가장 작은 수 입니다.\n",
    "예를 들어서 78(1001110)의 다음 큰 숫자는 83(1010011)입니다.\n",
    "\n",
    "자연수 n이 매개변수로 주어질 때, n의 다음 큰 숫자를 return 하는 solution 함수를 완성해주세요.\n",
    "\n",
    "제한 사항"
   ]
  },
  {
   "cell_type": "code",
   "execution_count": 1,
   "id": "acdbcc8c-2cc5-4ace-8d56-b34177308143",
   "metadata": {},
   "outputs": [],
   "source": [
    "def solution(n):\n",
    "    answer = one1=0\n",
    "    tmp=bin(n)\n",
    "    tmp=tmp[2:]\n",
    "    length=str(tmp)\n",
    "\n",
    "    for i in range(len(length)):\n",
    "        if length[i]=='1': one1+=1\n",
    "\n",
    "    while True:\n",
    "        one2=0\n",
    "        n+=1\n",
    "        n=bin(n)\n",
    "        n=n[2:]\n",
    "        length2=str(n)\n",
    "        \n",
    "        for k in range(len(length2)):\n",
    "            if length2[k]=='1': one2+=1\n",
    "        if one1 == one2 :\n",
    "                answer=int(n,2)\n",
    "                return answer\n",
    "        n=int(n,2)\n",
    "        \n",
    "\n",
    "            \n",
    "\n",
    "            \n",
    "    return answer"
   ]
  },
  {
   "cell_type": "code",
   "execution_count": 2,
   "id": "4dbdf849-f112-42a0-b098-7798840fad4f",
   "metadata": {},
   "outputs": [
    {
     "data": {
      "text/plain": [
       "83"
      ]
     },
     "execution_count": 2,
     "metadata": {},
     "output_type": "execute_result"
    }
   ],
   "source": [
    "solution(78)"
   ]
  },
  {
   "cell_type": "code",
   "execution_count": 3,
   "id": "469fa17a-9948-4cfa-b31b-1e64ae7f09d0",
   "metadata": {},
   "outputs": [
    {
     "data": {
      "text/plain": [
       "78"
      ]
     },
     "execution_count": 3,
     "metadata": {},
     "output_type": "execute_result"
    }
   ],
   "source": [
    "int('1001110', 2)"
   ]
  },
  {
   "cell_type": "code",
   "execution_count": 4,
   "id": "29e45c08-de1a-4ab2-9442-7de0f37b0021",
   "metadata": {},
   "outputs": [
    {
     "data": {
      "text/plain": [
       "'1001111'"
      ]
     },
     "execution_count": 4,
     "metadata": {},
     "output_type": "execute_result"
    }
   ],
   "source": [
    "bin=bin(79)\n",
    "bin=bin[2:]\n",
    "bin"
   ]
  },
  {
   "cell_type": "code",
   "execution_count": 8,
   "id": "e420e97f-e4c9-4133-96b3-2d20c7688f20",
   "metadata": {},
   "outputs": [],
   "source": [
    "def solution(n):\n",
    "    answer = one1=zero1= way=0\n",
    "    tmp=bin(n)\n",
    "    tmp=tmp[2:]\n",
    "    length=str(tmp)\n",
    "\n",
    "    for i in range(len(length)):\n",
    "        if length[i]=='1': one1+=1\n",
    "\n",
    "        while True:\n",
    "            one2=zero2=0\n",
    "            \n",
    "            n+=1\n",
    "            n=bin(n)\n",
    "            n=n[2:]\n",
    "            length2=str(n)\n",
    "            for i in range(len(length2)):\n",
    "                if length[i]=='1': one2+=1\n",
    "                if one1 == one2 : ##비교 위치 문제\n",
    "                    answer=int(length2, 2)\n",
    "                    return answer\n",
    "            \n",
    "            n=int(n,2)\n",
    "            \n",
    "\n",
    "\n",
    "            \n",
    "    return answer"
   ]
  },
  {
   "cell_type": "code",
   "execution_count": 6,
   "id": "4917c08c-4c7c-477a-84f6-12116e1203b9",
   "metadata": {},
   "outputs": [
    {
     "ename": "TypeError",
     "evalue": "'str' object is not callable",
     "output_type": "error",
     "traceback": [
      "\u001b[1;31m---------------------------------------------------------------------------\u001b[0m",
      "\u001b[1;31mTypeError\u001b[0m                                 Traceback (most recent call last)",
      "Input \u001b[1;32mIn [6]\u001b[0m, in \u001b[0;36m<cell line: 1>\u001b[1;34m()\u001b[0m\n\u001b[1;32m----> 1\u001b[0m \u001b[43msolution\u001b[49m\u001b[43m(\u001b[49m\u001b[38;5;241;43m1\u001b[39;49m\u001b[43m)\u001b[49m\n",
      "Input \u001b[1;32mIn [5]\u001b[0m, in \u001b[0;36msolution\u001b[1;34m(n)\u001b[0m\n\u001b[0;32m      1\u001b[0m \u001b[38;5;28;01mdef\u001b[39;00m \u001b[38;5;21msolution\u001b[39m(n):\n\u001b[0;32m      2\u001b[0m     answer \u001b[38;5;241m=\u001b[39m one1\u001b[38;5;241m=\u001b[39mzero1\u001b[38;5;241m=\u001b[39m way\u001b[38;5;241m=\u001b[39m\u001b[38;5;241m0\u001b[39m\n\u001b[1;32m----> 3\u001b[0m     tmp\u001b[38;5;241m=\u001b[39m\u001b[38;5;28;43mbin\u001b[39;49m\u001b[43m(\u001b[49m\u001b[43mn\u001b[49m\u001b[43m)\u001b[49m\n\u001b[0;32m      4\u001b[0m     tmp\u001b[38;5;241m=\u001b[39mtmp[\u001b[38;5;241m2\u001b[39m:]\n\u001b[0;32m      5\u001b[0m     length\u001b[38;5;241m=\u001b[39m\u001b[38;5;28mstr\u001b[39m(tmp)\n",
      "\u001b[1;31mTypeError\u001b[0m: 'str' object is not callable"
     ]
    }
   ],
   "source": [
    "solution(1)"
   ]
  },
  {
   "cell_type": "markdown",
   "id": "c1eeade1-91a1-43d6-af86-ace34deda6c1",
   "metadata": {},
   "source": [
    "피보나치 수는 F(0) = 0, F(1) = 1일 때, 1 이상의 n에 대하여 F(n) = F(n-1) + F(n-2) 가 적용되는 수 입니다.\r\n",
    "\r\n",
    "예를들어\r\n",
    "\r\n",
    "F(2) = F(0) + F(1) = 0 + 1 = 1\r\n",
    "F(3) = F(1) + F(2) = 1 + 1 = 2\r\n",
    "F(4) = F(2) + F(3) = 1 + 2 = 3\r\n",
    "F(5) = F(3) + F(4) = 2 + 3 = 5\r\n",
    "와 같이 이어집니다.\r\n",
    "\r\n",
    "2 이상의 n이 입력되었을 때, n번째 피보나치 수를 1234567으로 나눈 나머지를 리턴하는 함수, solution을 완성해 주세요."
   ]
  },
  {
   "cell_type": "code",
   "execution_count": 53,
   "id": "fe7b8252-1bcf-4f67-aa4e-af3ea1818f2b",
   "metadata": {},
   "outputs": [],
   "source": [
    "def solution(n):\n",
    "    answer = tmp=0\n",
    "    current = 1;\n",
    "    previous = 0;\n",
    "\n",
    "    if n <= 1:\n",
    "        return n\n",
    "    \n",
    "    current = 1\n",
    "    previous = 0\n",
    "    \n",
    "    for i in range(2, n + 1):\n",
    "        temp = current\n",
    "        current = current + previous\n",
    "        previous = temp\n",
    "\n",
    "    answer=current%1234567\n",
    "    return current"
   ]
  },
  {
   "cell_type": "code",
   "execution_count": 54,
   "id": "eaf237c5-2b76-499e-a561-45b54ae839ff",
   "metadata": {},
   "outputs": [
    {
     "data": {
      "text/plain": [
       "2"
      ]
     },
     "execution_count": 54,
     "metadata": {},
     "output_type": "execute_result"
    }
   ],
   "source": [
    "solution(3)"
   ]
  },
  {
   "cell_type": "code",
   "execution_count": 51,
   "id": "3022437b-d991-4a3a-b0b7-522bad8a9146",
   "metadata": {},
   "outputs": [],
   "source": [
    "def solution(n):\n",
    "    if n <= 1:\n",
    "        return n\n",
    "    \n",
    "    current = 1\n",
    "    previous = 0\n",
    "    \n",
    "    for i in range(2, n + 1):\n",
    "        temp = current\n",
    "        current = current + previous\n",
    "        previous = temp\n",
    "        \n",
    "    return current\n"
   ]
  },
  {
   "cell_type": "code",
   "execution_count": 52,
   "id": "9417338a-f6e8-4ddd-b491-734344fa0bf3",
   "metadata": {},
   "outputs": [
    {
     "data": {
      "text/plain": [
       "2"
      ]
     },
     "execution_count": 52,
     "metadata": {},
     "output_type": "execute_result"
    }
   ],
   "source": [
    "solution(3)"
   ]
  },
  {
   "cell_type": "markdown",
   "id": "f4663108-1f5b-42a3-a517-4d33743ebacd",
   "metadata": {},
   "source": [
    "### 짝지어 제거하기는, 알파벳 소문자로 이루어진 문자열을 가지고 시작합니다. 먼저 문자열에서 같은 알파벳이 2개 붙어 있는 짝을 찾습니다. 그다음, 그 둘을 제거한 뒤, 앞뒤로 문자열을 이어 붙입니다. 이 과정을 반복해서 문자열을 모두 제거한다면 짝지어 제거하기가 종료됩니다. 문자열 S가 주어졌을 때, 짝지어 제거하기를 성공적으로 수행할 수 있는지 반환하는 함수를 완성해 주세요. 성공적으로 수행할 수 있으면 1을, 아닐 경우 0을 리턴해주면 됩니다."
   ]
  },
  {
   "cell_type": "code",
   "execution_count": 3,
   "id": "901f0509-58cc-4580-b4b6-77f3c5e0f6fa",
   "metadata": {},
   "outputs": [],
   "source": [
    "def solution(s):\n",
    "    answer = []\n",
    "    for i in s:\n",
    "        if not(answer):\n",
    "            answer.append(i)\n",
    "        else:\n",
    "            if(answer[-1] == i):\n",
    "                answer.pop()\n",
    "            else:\n",
    "                answer.append(i)    \n",
    "    return not(answer)"
   ]
  },
  {
   "cell_type": "code",
   "execution_count": 4,
   "id": "893494ac-58f4-4ed0-8a58-e9321efa2e1a",
   "metadata": {},
   "outputs": [
    {
     "data": {
      "text/plain": [
       "0"
      ]
     },
     "execution_count": 4,
     "metadata": {},
     "output_type": "execute_result"
    }
   ],
   "source": [
    "solution('baabaa')"
   ]
  },
  {
   "cell_type": "code",
   "execution_count": null,
   "id": "fb7e973e-4d11-4dcc-9fc6-aa589b160cf9",
   "metadata": {},
   "outputs": [],
   "source": []
  }
 ],
 "metadata": {
  "kernelspec": {
   "display_name": "Python 3 (ipykernel)",
   "language": "python",
   "name": "python3"
  },
  "language_info": {
   "codemirror_mode": {
    "name": "ipython",
    "version": 3
   },
   "file_extension": ".py",
   "mimetype": "text/x-python",
   "name": "python",
   "nbconvert_exporter": "python",
   "pygments_lexer": "ipython3",
   "version": "3.11.7"
  }
 },
 "nbformat": 4,
 "nbformat_minor": 5
}
