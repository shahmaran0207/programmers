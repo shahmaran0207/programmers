{
 "cells": [
  {
   "cell_type": "markdown",
   "id": "7f7aff41-0f15-4058-bc7d-b0530d451cec",
   "metadata": {},
   "source": [
    "## Leo는 카펫을 사러 갔다가 아래 그림과 같이 중앙에는 노란색으로 칠해져 있고 테두리 1줄은 갈색으로 칠해져 있는 격자 모양 카펫을 봤습니다.\n",
    "\n",
    "## Leo는 집으로 돌아와서 아까 본 카펫의 노란색과 갈색으로 색칠된 격자의 개수는 기억했지만, 전체 카펫의 크기는 기억하지 못했습니다.\n",
    "\n",
    "## \r\n",
    "Leo가 본 카펫에서 갈색 격자의 수 brown, 노란색 격자의 수 yellow가 매개변수로 주어질 때 카펫의 가로, 세로 크기를 순서대로 배열에 담아 return 하도록 solution 함수를 작성해주세요."
   ]
  },
  {
   "cell_type": "code",
   "execution_count": 2,
   "id": "788ef4bc-d9ad-4827-8527-3c55fba7737c",
   "metadata": {},
   "outputs": [],
   "source": [
    "def solution(brown, yellow):\n",
    "    w = (brown / 2) + 1\n",
    "    h = 1\n",
    "    while w >= h:\n",
    "        if (w - 2) * (h - 2) == yellow:\n",
    "            return [w, h]\n",
    "        w -= 1\n",
    "        h += 1\n"
   ]
  },
  {
   "cell_type": "code",
   "execution_count": null,
   "id": "1d0ea84e-9c23-4bcd-866d-d450483dc5cf",
   "metadata": {},
   "outputs": [],
   "source": []
  }
 ],
 "metadata": {
  "kernelspec": {
   "display_name": "Python 3 (ipykernel)",
   "language": "python",
   "name": "python3"
  },
  "language_info": {
   "codemirror_mode": {
    "name": "ipython",
    "version": 3
   },
   "file_extension": ".py",
   "mimetype": "text/x-python",
   "name": "python",
   "nbconvert_exporter": "python",
   "pygments_lexer": "ipython3",
   "version": "3.11.7"
  }
 },
 "nbformat": 4,
 "nbformat_minor": 5
}
