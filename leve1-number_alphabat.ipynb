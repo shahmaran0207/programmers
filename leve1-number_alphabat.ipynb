{
 "cells": [
  {
   "cell_type": "markdown",
   "id": "9e50ac0a-18cd-41da-af0c-05cef3b6434a",
   "metadata": {},
   "source": [
    "## 네오와 프로도가 숫자놀이를 하고 있습니다. 네오가 프로도에게 숫자를 건넬 때 일부 자릿수를 영단어로 바꾼 카드를 건네주면 프로도는 원래 숫자를 찾는 게임입니다.\r\n",
    "## \r\n",
    "다음은 숫자의 일부 자릿수를 영단어로 바꾸는 예시입니다.## \r\n",
    "\r\n",
    "1478 → \"one4seveneig## ht\"\r\n",
    "234567 → \"23four5s## ix7\"\r\n",
    "10203 → \"1zerotwoz## ero3\"\r\n",
    "이렇게 숫자의 일부 자릿수가 영단어로 바뀌어졌거나, 혹은 바뀌지 않고 그대로인 문자열 s가 매개변수로 주어집니다. s가 의미하는 원래 숫자를 return 하도록 solution 함수를 완성해주세요."
   ]
  },
  {
   "cell_type": "code",
   "execution_count": 1,
   "id": "c51bc1ef-0309-47fa-ae6f-6d2b229c3ab0",
   "metadata": {},
   "outputs": [],
   "source": [
    "def solution(s):\n",
    "    answer = 0\n",
    "    return answer"
   ]
  },
  {
   "cell_type": "code",
   "execution_count": 3,
   "id": "60f15198-90df-475d-8a93-6c24e9be3b66",
   "metadata": {},
   "outputs": [
    {
     "data": {
      "text/plain": [
       "0"
      ]
     },
     "execution_count": 3,
     "metadata": {},
     "output_type": "execute_result"
    }
   ],
   "source": [
    "solution(\"one4seveneight\")"
   ]
  },
  {
   "cell_type": "code",
   "execution_count": null,
   "id": "a6076bd8-d81c-4f7e-a1d6-8c5f5b611f0c",
   "metadata": {},
   "outputs": [],
   "source": []
  }
 ],
 "metadata": {
  "kernelspec": {
   "display_name": "Python 3 (ipykernel)",
   "language": "python",
   "name": "python3"
  },
  "language_info": {
   "codemirror_mode": {
    "name": "ipython",
    "version": 3
   },
   "file_extension": ".py",
   "mimetype": "text/x-python",
   "name": "python",
   "nbconvert_exporter": "python",
   "pygments_lexer": "ipython3",
   "version": "3.11.7"
  }
 },
 "nbformat": 4,
 "nbformat_minor": 5
}
