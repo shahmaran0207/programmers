{
 "cells": [
  {
   "cell_type": "markdown",
   "id": "6845c16d",
   "metadata": {},
   "source": [
    "S사에서는 각 부서에 필요한 물품을 지원해 주기 위해 부서별로 물품을 구매하는데 필요한 금액을 조사했습니다. 그러나, 전체 예산이 정해져 있기 때문에 모든 부서의 물품을 구매해 줄 수는 없습니다. 그래서 최대한 많은 부서의 물품을 구매해 줄 수 있도록 하려고 합니다.\n",
    "\n",
    "물품을 구매해 줄 때는 각 부서가 신청한 금액만큼을 모두 지원해 줘야 합니다. 예를 들어 1,000원을 신청한 부서에는 정확히 1,000원을 지원해야 하며, 1,000원보다 적은 금액을 지원해 줄 수는 없습니다.\n",
    "\n",
    "부서별로 신청한 금액이 들어있는 배열 d와 예산 budget이 매개변수로 주어질 때, 최대 몇 개의 부서에 물품을 지원할 수 있는지 return 하도록 solution 함수를 완성해주세요."
   ]
  },
  {
   "cell_type": "code",
   "execution_count": 21,
   "id": "4c3f118d",
   "metadata": {},
   "outputs": [],
   "source": [
    "def solution(d, budget):\n",
    "    answer = dep= 0\n",
    "    \n",
    "    d.sort()\n",
    "    \n",
    "    for i in range(len(d)):\n",
    "        dep+=d[i]\n",
    "        if dep> budget: break\n",
    "        answer+=1\n",
    "\n",
    "    \n",
    "    return answer"
   ]
  },
  {
   "cell_type": "code",
   "execution_count": 22,
   "id": "a34e8cab",
   "metadata": {},
   "outputs": [
    {
     "data": {
      "text/plain": [
       "4"
      ]
     },
     "execution_count": 22,
     "metadata": {},
     "output_type": "execute_result"
    }
   ],
   "source": [
    "solution([2,2,3,3],10)"
   ]
  },
  {
   "cell_type": "code",
   "execution_count": 16,
   "id": "07729ef6",
   "metadata": {},
   "outputs": [],
   "source": [
    "dep=[1, 3, 2, 5, 4]"
   ]
  },
  {
   "cell_type": "code",
   "execution_count": 19,
   "id": "98b7ee38",
   "metadata": {},
   "outputs": [],
   "source": [
    "dep.sort()"
   ]
  },
  {
   "cell_type": "code",
   "execution_count": 20,
   "id": "15900a62",
   "metadata": {},
   "outputs": [
    {
     "data": {
      "text/plain": [
       "[1, 2, 3, 4, 5]"
      ]
     },
     "execution_count": 20,
     "metadata": {},
     "output_type": "execute_result"
    }
   ],
   "source": [
    "dep"
   ]
  },
  {
   "cell_type": "markdown",
   "id": "35997364",
   "metadata": {},
   "source": [
    "문자열 s는 한 개 이상의 단어로 구성되어 있습니다. 각 단어는 하나 이상의 공백문자로 구분되어 있습니다. 각 단어의 짝수번째 알파벳은 대문자로, 홀수번째 알파벳은 소문자로 바꾼 문자열을 리턴하는 함수, solution을 완성하세요."
   ]
  },
  {
   "cell_type": "code",
   "execution_count": 123,
   "id": "1209523e",
   "metadata": {},
   "outputs": [],
   "source": [
    "def solution(s):\n",
    "    answer=[]\n",
    "    n=s.split(' ')\n",
    "    \n",
    "    #문자열 단어로 추가하고 마지막에 ' '로 한 문장으로 만듦\n",
    "    for world in n:\n",
    "        s=''\n",
    "        for k in range(len(world)):\n",
    "            if k%2==0:\n",
    "                s+=world[k].upper()\n",
    "            else:\n",
    "                s+=world[k].lower() #전부 소문자라고 누가 그럼?\n",
    "        answer.append(s)\n",
    "    \n",
    "    return ' '.join(answer)"
   ]
  },
  {
   "cell_type": "code",
   "execution_count": 122,
   "id": "dbcdabf4",
   "metadata": {},
   "outputs": [
    {
     "data": {
      "text/plain": [
       "'TrY HeLlO WoRlD'"
      ]
     },
     "execution_count": 122,
     "metadata": {},
     "output_type": "execute_result"
    }
   ],
   "source": [
    "solution(\"try hello world\")"
   ]
  },
  {
   "cell_type": "code",
   "execution_count": 114,
   "id": "960a93bf",
   "metadata": {},
   "outputs": [],
   "source": [
    "s=\"try hello world\""
   ]
  },
  {
   "cell_type": "code",
   "execution_count": 32,
   "id": "2f9d6203",
   "metadata": {},
   "outputs": [
    {
     "data": {
      "text/plain": [
       "['try', 'hello', 'world']"
      ]
     },
     "execution_count": 32,
     "metadata": {},
     "output_type": "execute_result"
    }
   ],
   "source": [
    "s.split(' ')"
   ]
  },
  {
   "cell_type": "code",
   "execution_count": 34,
   "id": "62d46634",
   "metadata": {},
   "outputs": [
    {
     "ename": "TypeError",
     "evalue": "descriptor 'append' for 'list' objects doesn't apply to a 'str' object",
     "output_type": "error",
     "traceback": [
      "\u001b[1;31m---------------------------------------------------------------------------\u001b[0m",
      "\u001b[1;31mTypeError\u001b[0m                                 Traceback (most recent call last)",
      "Input \u001b[1;32mIn [34]\u001b[0m, in \u001b[0;36m<cell line: 1>\u001b[1;34m()\u001b[0m\n\u001b[1;32m----> 1\u001b[0m \u001b[38;5;28;43mlist\u001b[39;49m\u001b[38;5;241;43m.\u001b[39;49m\u001b[43mappend\u001b[49m\u001b[43m(\u001b[49m\u001b[43ms\u001b[49m\u001b[43m)\u001b[49m\n",
      "\u001b[1;31mTypeError\u001b[0m: descriptor 'append' for 'list' objects doesn't apply to a 'str' object"
     ]
    }
   ],
   "source": [
    "list.append(s)"
   ]
  },
  {
   "cell_type": "markdown",
   "id": "ce4f9b7c-c823-4e74-a575-9937475bd242",
   "metadata": {},
   "source": [
    "숫자로 이루어진 문자열 t와 p가 주어질 때, t에서 p와 길이가 같은 부분문자열 중에서, 이 부분문자열이 나타내는 수가 p가 나타내는 수보다 작거나 같은 것이 나오는 횟수를 return하는 함수 solution을 완성하세요.\r\n",
    "\r\n",
    "예를 들어, t=\"3141592\"이고 p=\"271\" 인 경우, t의 길이가 3인 부분 문자열은 314, 141, 415, 159, 592입니다. 이 문자열이 나타내는 수 중 271보다 작거나 같은 수는 141, 159 2개 입니다."
   ]
  },
  {
   "cell_type": "code",
   "execution_count": 1,
   "id": "eadf7e02-8b58-4f4a-aef9-f96dcfc25fe7",
   "metadata": {},
   "outputs": [],
   "source": [
    "def solution(t, p):\n",
    "    answer = 0\n",
    "    word=str(t)\n",
    "    real=''\n",
    "\n",
    "    for i in range(len(word)):\n",
    "        word\n",
    "    \n",
    "    return answer"
   ]
  },
  {
   "cell_type": "code",
   "execution_count": 2,
   "id": "c80dd88a-b3db-480e-a0c5-95ae4c2087fe",
   "metadata": {},
   "outputs": [
    {
     "data": {
      "text/plain": [
       "0"
      ]
     },
     "execution_count": 2,
     "metadata": {},
     "output_type": "execute_result"
    }
   ],
   "source": [
    "solution(\"3141592\", \"271\")"
   ]
  },
  {
   "cell_type": "code",
   "execution_count": null,
   "id": "2981f6cd-29ca-42df-907a-1447e07af463",
   "metadata": {},
   "outputs": [],
   "source": []
  }
 ],
 "metadata": {
  "kernelspec": {
   "display_name": "Python 3 (ipykernel)",
   "language": "python",
   "name": "python3"
  },
  "language_info": {
   "codemirror_mode": {
    "name": "ipython",
    "version": 3
   },
   "file_extension": ".py",
   "mimetype": "text/x-python",
   "name": "python",
   "nbconvert_exporter": "python",
   "pygments_lexer": "ipython3",
   "version": "3.11.7"
  }
 },
 "nbformat": 4,
 "nbformat_minor": 5
}
