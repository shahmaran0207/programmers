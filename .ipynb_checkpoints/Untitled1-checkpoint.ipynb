{
 "cells": [
  {
   "cell_type": "code",
   "execution_count": 1,
   "id": "5039dec4",
   "metadata": {},
   "outputs": [
    {
     "name": "stdout",
     "output_type": "stream",
     "text": [
      "숫자의 개수를 입력하세요: 3\n",
      "숫자 1을 입력하세요: 1\n",
      "숫자 2을 입력하세요: 2\n",
      "숫자 3을 입력하세요: 3\n",
      "입력된 숫자들: 1 2 3\n"
     ]
    }
   ],
   "source": [
    "def input_numbers(n):\n",
    "    numbers = []\n",
    "    for i in range(n):\n",
    "        num = int(input(f\"숫자 {i + 1}을 입력하세요: \"))\n",
    "        numbers.append(num)\n",
    "    print(\"입력된 숫자들:\", ' '.join(map(str, numbers)))\n",
    "\n",
    "# 함수 사용 예제\n",
    "n = int(input(\"숫자의 개수를 입력하세요: \"))\n",
    "input_numbers(n)"
   ]
  },
  {
   "cell_type": "code",
   "execution_count": 4,
   "id": "4a36d0bc",
   "metadata": {},
   "outputs": [
    {
     "name": "stdout",
     "output_type": "stream",
     "text": [
      "Enter the number of values you want to input: 4\n",
      "Please enter 4 values separated by space:\n",
      "1 2 3 4\n",
      "['1', '2', '3', '4']\n"
     ]
    }
   ],
   "source": [
    "def input_multiple_values(n):\n",
    "    # n 개수 만큼의 값을 한 줄에 입력받기\n",
    "    print(f\"Please enter {n} values separated by space:\")\n",
    "    values = input().split()  # 한 줄에 입력받은 값을 공백으로 분리하여 리스트로 저장\n",
    "    \n",
    "\n",
    "    return values\n",
    "\n",
    "# 함수 사용 예제\n",
    "n = int(input(\"Enter the number of values you want to input: \"))\n",
    "values = input_multiple_values(n)\n",
    "print(values)"
   ]
  },
  {
   "cell_type": "code",
   "execution_count": 5,
   "id": "4dbf8f98",
   "metadata": {},
   "outputs": [
    {
     "name": "stdout",
     "output_type": "stream",
     "text": [
      "Enter the number of values you want to input: 3\n",
      "Please enter 3 values separated by space:\n",
      "1 2 3\n",
      "You have entered: [1, 2, 3]\n"
     ]
    }
   ],
   "source": [
    "def input_multiple_values(n):\n",
    "    # n 개수만큼의 값을 한 줄에 입력받기\n",
    "    print(f\"Please enter {n} values separated by space:\")\n",
    "    values = map(int, input().split())  # 입력받은 값을 정수로 변환\n",
    "    \n",
    "    # 입력된 값이 n개의 값이 맞는지 확인\n",
    "    values = list(values)\n",
    "    if len(values) != n:\n",
    "        print(f\"Error: You need to enter exactly {n} values.\")\n",
    "        return None\n",
    "    \n",
    "    return values\n",
    "\n",
    "# 함수 사용 예제\n",
    "n = int(input(\"Enter the number of values you want to input: \"))\n",
    "values = input_multiple_values(n)\n",
    "\n",
    "if values:\n",
    "    print(\"You have entered:\", values)\n"
   ]
  },
  {
   "cell_type": "code",
   "execution_count": 1,
   "id": "f52fdf9c",
   "metadata": {},
   "outputs": [],
   "source": [
    "a=12\n",
    "b=2"
   ]
  },
  {
   "cell_type": "code",
   "execution_count": 2,
   "id": "75ea2493",
   "metadata": {},
   "outputs": [
    {
     "name": "stdout",
     "output_type": "stream",
     "text": [
      "6.0\n"
     ]
    }
   ],
   "source": [
    "print(a/b)"
   ]
  },
  {
   "cell_type": "code",
   "execution_count": null,
   "id": "4117240d",
   "metadata": {},
   "outputs": [],
   "source": []
  }
 ],
 "metadata": {
  "kernelspec": {
   "display_name": "Python 3 (ipykernel)",
   "language": "python",
   "name": "python3"
  },
  "language_info": {
   "codemirror_mode": {
    "name": "ipython",
    "version": 3
   },
   "file_extension": ".py",
   "mimetype": "text/x-python",
   "name": "python",
   "nbconvert_exporter": "python",
   "pygments_lexer": "ipython3",
   "version": "3.9.12"
  }
 },
 "nbformat": 4,
 "nbformat_minor": 5
}
