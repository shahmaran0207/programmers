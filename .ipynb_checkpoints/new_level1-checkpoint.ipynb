{
 "cells": [
  {
   "cell_type": "markdown",
   "id": "dbcd7aa5-b794-413b-9cd4-89d2e35ef328",
   "metadata": {},
   "source": [
    "명함 지갑을 만드는 회사에서 지갑의 크기를 정하려고 합니다. 다양한 모양과 크기의 명함들을 모두 수납할 수 있으면서, 작아서 들고 다니기 편한 지갑을 만들어야 합니다. 이러한 요건을 만족하는 지갑을 만들기 위해 디자인팀은 모든 명함의 가로 길이와 세로 길이를 조사했습니다.\r\n",
    "\r\n",
    "아래 표는 4가지 명함의 가로 길이와 세로 길이를 나타냅니다.\r\n",
    "\r\n",
    "명함 번호\t가로 길이\t세로 길이\r\n",
    "1\t60\t50\r\n",
    "2\t30\t70\r\n",
    "3\t60\t30\r\n",
    "4\t80\t40\r\n",
    "가장 긴 가로 길이와 세로 길이가 각각 80, 70이기 때문에 80(가로) x 70(세로) 크기의 지갑을 만들면 모든 명함들을 수납할 수 있습니다. 하지만 2번 명함을 가로로 눕혀 수납한다면 80(가로) x 50(세로) 크기의 지갑으로 모든 명함들을 수납할 수 있습니다. 이때의 지갑 크기는 4000(=80 x 50)입니다.\r\n",
    "\r\n",
    "모든 명함의 가로 길이와 세로 길이를 나타내는 2차원 배열 sizes가 매개변수로 주어집니다. 모든 명함을 수납할 수 있는 가장 작은 지갑을 만들 때, 지갑의 크기를 return 하도록 solution 함수를 완성해주세요."
   ]
  },
  {
   "cell_type": "code",
   "execution_count": 18,
   "id": "97c5c7d6-e464-4c12-bdff-23784fa60f7c",
   "metadata": {},
   "outputs": [],
   "source": [
    "def solution(sizes):\n",
    "    answer = tmp1 = tmp2 = 0\n",
    "    tmp1=sizes[0][0]\n",
    "    tmp2=sizes[0][1]\n",
    "\n",
    "    for i in range(len(sizes)):\n",
    "\n",
    "\n",
    "        if tmp1< sizes[i][0]: tmp1=sizes[i][0]\n",
    "        if tmp2< sizes[i][1]: tmp2=sizes[i][1]\n",
    "\n",
    "    answer=tmp1*tmp2\n",
    "    return answer"
   ]
  },
  {
   "cell_type": "code",
   "execution_count": 20,
   "id": "c906120d-14b8-4519-a969-68023f9ba0d5",
   "metadata": {},
   "outputs": [],
   "source": [
    "def solution(sizes):\n",
    "    return max(max(x) for x in sizes) * max(min(x) for x in sizes)"
   ]
  },
  {
   "cell_type": "code",
   "execution_count": 21,
   "id": "ad09a7b7-eae8-4899-8e93-ad8ad461410c",
   "metadata": {},
   "outputs": [],
   "source": [
    "solution = lambda sizes: max(sum(sizes, [])) * max(min(size) for size in sizes)"
   ]
  },
  {
   "cell_type": "markdown",
   "id": "b140e677-fc14-4994-b48f-dfa3b6893130",
   "metadata": {},
   "source": [
    "어떤 문장의 각 알파벳을 일정한 거리만큼 밀어서 다른 알파벳으로 바꾸는 암호화 방식을 시저 암호라고 합니다. 예를 들어 \"AB\"는 1만큼 밀면 \"BC\"가 되고, 3만큼 밀면 \"DE\"가 됩니다. \"z\"는 1만큼 밀면 \"a\"가 됩니다. 문자열 s와 거리 n을 입력받아 s를 n만큼 민 암호문을 만드는 함수, solution을 완성해 보세요."
   ]
  },
  {
   "cell_type": "code",
   "execution_count": 33,
   "id": "779806be-d3d5-4675-9b78-297e524d57b9",
   "metadata": {},
   "outputs": [],
   "source": [
    "            "
   ]
  },
  {
   "cell_type": "code",
   "execution_count": 35,
   "id": "846ace7f-dd42-48a7-876c-f5f8700cecce",
   "metadata": {},
   "outputs": [],
   "source": [
    "def solution(s, n):\n",
    "    answer = ''\n",
    "    tmp=0\n",
    "\n",
    "    for i in range(len(s)):\n",
    "        if s[i] != ' ':\n",
    "            if ord(s[i]) == 80:\n",
    "                tmp=25+n\n",
    "            elif ord(s[i]) == 122:\n",
    "                tmp=96+n\n",
    "            else:\n",
    "                tmp=ord(s[i])+n\n",
    "            answer+=chr(tmp)\n",
    "        else: answer+=s[i]\n",
    "    \n",
    "    return answer"
   ]
  },
  {
   "cell_type": "code",
   "execution_count": 36,
   "id": "b6235c4f-ae77-49c1-bdd9-4568f622bdf4",
   "metadata": {},
   "outputs": [
    {
     "data": {
      "text/plain": [
       "'e F d'"
      ]
     },
     "execution_count": 36,
     "metadata": {},
     "output_type": "execute_result"
    }
   ],
   "source": [
    "solution(\"a B z\",4)"
   ]
  },
  {
   "cell_type": "markdown",
   "id": "97dbadd7-a844-457b-8e12-1463648c23f3",
   "metadata": {},
   "source": [
    "# ord(문자) -> 아스키 코드 숫자\n",
    "# chr(숫자) -> 아스키 코드 문자"
   ]
  },
  {
   "cell_type": "code",
   "execution_count": null,
   "id": "a4f8a223-6456-4580-843f-a0b39ef3cf62",
   "metadata": {},
   "outputs": [],
   "source": []
  }
 ],
 "metadata": {
  "kernelspec": {
   "display_name": "Python 3 (ipykernel)",
   "language": "python",
   "name": "python3"
  },
  "language_info": {
   "codemirror_mode": {
    "name": "ipython",
    "version": 3
   },
   "file_extension": ".py",
   "mimetype": "text/x-python",
   "name": "python",
   "nbconvert_exporter": "python",
   "pygments_lexer": "ipython3",
   "version": "3.11.7"
  }
 },
 "nbformat": 4,
 "nbformat_minor": 5
}
