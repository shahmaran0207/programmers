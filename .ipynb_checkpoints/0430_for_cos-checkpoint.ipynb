{
 "cells": [
  {
   "cell_type": "markdown",
   "id": "1dd60b58-ab1c-46dc-920d-68801dd3fdfb",
   "metadata": {},
   "source": [
    "두 수의 최소공배수(Least Common Multiple)란 입력된 두 수의 배수 중 공통이 되는 가장 작은 숫자를 의미합니다. 예를 들어 2와 7의 최소공배수는 14가 됩니다. 정의를 확장해서, n개의 수의 최소공배수는 n 개의 수들의 배수 중 공통이 되는 가장 작은 숫자가 됩니다. n개의 숫자를 담은 배열 arr이 입력되었을 때 이 수들의 최소공배수를 반환하는 함수, solution을 완성해 주세요."
   ]
  },
  {
   "cell_type": "code",
   "execution_count": 31,
   "id": "0e3b7392-eba4-4d66-ae05-dbe89d8bf689",
   "metadata": {},
   "outputs": [],
   "source": [
    "import math\n",
    "def solution(arr):\n",
    "    answer = arr[0]\n",
    "    \n",
    "    for i in arr:\n",
    "       answer=math.lcm(answer,i)\n",
    "        \n",
    "    return answer"
   ]
  },
  {
   "cell_type": "code",
   "execution_count": 32,
   "id": "82d95296-9509-4166-a604-840bcc28ed66",
   "metadata": {},
   "outputs": [
    {
     "data": {
      "text/plain": [
       "168"
      ]
     },
     "execution_count": 32,
     "metadata": {},
     "output_type": "execute_result"
    }
   ],
   "source": [
    "solution([2,6,8,14])"
   ]
  },
  {
   "cell_type": "code",
   "execution_count": null,
   "id": "1039698c-5fba-4433-b8f9-bbc116323323",
   "metadata": {},
   "outputs": [],
   "source": [
    "def solution(arr):\n",
    "    import math\n",
    "    \n",
    "    answer = arr[0]\n",
    "    \n",
    "    for i in arr:\n",
    "        answer=(i*answer)//math.gcd(i,answer)\n",
    "        \n",
    "    return answer"
   ]
  },
  {
   "cell_type": "code",
   "execution_count": null,
   "id": "970bd638-a786-4c63-8478-4c96eec0e8b0",
   "metadata": {},
   "outputs": [],
   "source": []
  },
  {
   "cell_type": "code",
   "execution_count": null,
   "id": "4377812d-cc92-46cc-811c-3a0bbccdfae2",
   "metadata": {},
   "outputs": [],
   "source": []
  }
 ],
 "metadata": {
  "kernelspec": {
   "display_name": "Python 3 (ipykernel)",
   "language": "python",
   "name": "python3"
  },
  "language_info": {
   "codemirror_mode": {
    "name": "ipython",
    "version": 3
   },
   "file_extension": ".py",
   "mimetype": "text/x-python",
   "name": "python",
   "nbconvert_exporter": "python",
   "pygments_lexer": "ipython3",
   "version": "3.11.7"
  }
 },
 "nbformat": 4,
 "nbformat_minor": 5
}
