{
 "cells": [
  {
   "cell_type": "code",
   "execution_count": 50,
   "id": "256aabae",
   "metadata": {},
   "outputs": [],
   "source": [
    "def solution(n, lost, reserve):\n",
    "    answer = 0\n",
    "    count=0\n",
    "    temp=0\n",
    "    temp2=[]\n",
    "\n",
    "    for i in range(len(reserve)):\n",
    "        for k in range(len(lost)):\n",
    "            if reserve[i]==lost[k]:\n",
    "                temp2.append(reserve[i])\n",
    "    \n",
    "    reserve=[item for item in reserve if item not in temp2]\n",
    "    \n",
    "    for i in range(len(lost)):\n",
    "        for k in range(len(reserve)):\n",
    "            if len(reserve)==count: break\n",
    "            elif reserve[k]-1==lost[i] or reserve[k]+1==lost[i]:\n",
    "                count+=1\n",
    "                break\n",
    "        \n",
    "\n",
    "    temp=len(lost)-count\n",
    "    answer=n-temp\n",
    "    return answer"
   ]
  },
  {
   "cell_type": "code",
   "execution_count": 51,
   "id": "442d4a7c",
   "metadata": {},
   "outputs": [
    {
     "data": {
      "text/plain": [
       "5"
      ]
     },
     "execution_count": 51,
     "metadata": {},
     "output_type": "execute_result"
    }
   ],
   "source": [
    "solution(5,[2,4],[1,3,5])"
   ]
  },
  {
   "cell_type": "code",
   "execution_count": 52,
   "id": "a64fa978",
   "metadata": {},
   "outputs": [
    {
     "data": {
      "text/plain": [
       "4"
      ]
     },
     "execution_count": 52,
     "metadata": {},
     "output_type": "execute_result"
    }
   ],
   "source": [
    "solution(5,[2,4],[3])"
   ]
  },
  {
   "cell_type": "code",
   "execution_count": 53,
   "id": "1a9fd843",
   "metadata": {},
   "outputs": [
    {
     "data": {
      "text/plain": [
       "2"
      ]
     },
     "execution_count": 53,
     "metadata": {},
     "output_type": "execute_result"
    }
   ],
   "source": [
    "solution(3,[3],[1])"
   ]
  },
  {
   "cell_type": "code",
   "execution_count": 59,
   "id": "413befb9",
   "metadata": {},
   "outputs": [],
   "source": [
    "def solution(n, lost, reserve):\n",
    "    # reserve와 lost의 교집합을 제거하여 최종 대여 가능한 리스트와 도난 리스트를 업데이트\n",
    "    reserve_set = set(reserve) - set(lost)\n",
    "    lost_set = set(lost) - set(reserve)\n",
    "\n",
    "    # 체육복 빌려주기\n",
    "    for r in sorted(reserve_set):\n",
    "        if r - 1 in lost_set:\n",
    "            lost_set.remove(r - 1)\n",
    "        elif r + 1 in lost_set:\n",
    "            lost_set.remove(r + 1)\n",
    "    \n",
    "    # 체육수업을 들을 수 있는 학생 수는 전체 학생 수 - 체육복을 잃어버린 학생 수\n",
    "    answer = n - len(lost_set)\n",
    "    return answer\n",
    "\n",
    "## rreserve_set: 집합으로 정의되어 있기 떄문에 remove를 사용해도 다른 요소들의 위치나 순서에 영향 받지 않음"
   ]
  },
  {
   "cell_type": "code",
   "execution_count": 60,
   "id": "703c6bf2",
   "metadata": {},
   "outputs": [
    {
     "data": {
      "text/plain": [
       "[1, 3, 5]"
      ]
     },
     "execution_count": 60,
     "metadata": {},
     "output_type": "execute_result"
    }
   ],
   "source": [
    "solution(5,[2,4],[1,2,3,5])"
   ]
  },
  {
   "cell_type": "code",
   "execution_count": 72,
   "id": "28dafbf7",
   "metadata": {},
   "outputs": [
    {
     "data": {
      "text/plain": [
       "{1, 5, 6}"
      ]
     },
     "execution_count": 72,
     "metadata": {},
     "output_type": "execute_result"
    }
   ],
   "source": [
    "li2=[1,2,3,4,5,6]\n",
    "lis=[2,3,4]\n",
    "\n",
    "lis=set(lis)\n",
    "li2=set(li2)\n",
    "\n",
    "for i in sorted(lis): #range는 숫자 시퀀스를 생성 -> 즉, 집합에는 사용할 수 없음 -> 내용물을 직접 다루는 sorted가 필요함\n",
    "    for k in sorted(li2):\n",
    "        if i in li2:\n",
    "            li2.remove(i)\n",
    "li2"
   ]
  },
  {
   "cell_type": "code",
   "execution_count": null,
   "id": "2be455c8",
   "metadata": {},
   "outputs": [],
   "source": []
  },
  {
   "cell_type": "code",
   "execution_count": null,
   "id": "eaf3fa82",
   "metadata": {},
   "outputs": [],
   "source": []
  }
 ],
 "metadata": {
  "kernelspec": {
   "display_name": "Python 3 (ipykernel)",
   "language": "python",
   "name": "python3"
  },
  "language_info": {
   "codemirror_mode": {
    "name": "ipython",
    "version": 3
   },
   "file_extension": ".py",
   "mimetype": "text/x-python",
   "name": "python",
   "nbconvert_exporter": "python",
   "pygments_lexer": "ipython3",
   "version": "3.9.12"
  }
 },
 "nbformat": 4,
 "nbformat_minor": 5
}
