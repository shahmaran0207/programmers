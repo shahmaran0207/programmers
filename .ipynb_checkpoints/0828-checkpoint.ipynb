{
 "cells": [
  {
   "cell_type": "code",
   "execution_count": 54,
   "id": "7e38a5fd",
   "metadata": {},
   "outputs": [
    {
     "ename": "IndentationError",
     "evalue": "expected an indented block (4152067729.py, line 14)",
     "output_type": "error",
     "traceback": [
      "\u001b[1;36m  Input \u001b[1;32mIn [54]\u001b[1;36m\u001b[0m\n\u001b[1;33m    return answer\u001b[0m\n\u001b[1;37m    ^\u001b[0m\n\u001b[1;31mIndentationError\u001b[0m\u001b[1;31m:\u001b[0m expected an indented block\n"
     ]
    }
   ],
   "source": [
    "import re\n",
    "\n",
    "def split_string(s):\n",
    "    return re.findall('..',s)\n",
    "\n",
    "def solution(dartResult):\n",
    "    answer = 0\n",
    "    ans1=0\n",
    "    ans2=0\n",
    "    ans3=0\n",
    "    \n",
    "    temp=split_string(dartResult)\n",
    "    \n",
    "    for i in range(len(temp)):\n",
    "        for k in range(len(temp[i])):\n",
    "            if temp[i][0]==\"1\" or temp[i][0]==\"2\" or temp[i][0]==\"3\": ans1+=int(temp[i][0])\n",
    "            elif  temp[i][0]==\"#\" or temp[i][0]==\"*\": \n",
    "        \n",
    "        \n",
    "    return answer"
   ]
  },
  {
   "cell_type": "code",
   "execution_count": 47,
   "id": "cf048e11",
   "metadata": {},
   "outputs": [
    {
     "data": {
      "text/plain": [
       "['1S', '2D', '*3']"
      ]
     },
     "execution_count": 47,
     "metadata": {},
     "output_type": "execute_result"
    }
   ],
   "source": [
    "solution(\"1S2D*3T\")"
   ]
  },
  {
   "cell_type": "code",
   "execution_count": 48,
   "id": "07c6630c",
   "metadata": {},
   "outputs": [
    {
     "data": {
      "text/plain": [
       "['1D', '2S', '#1', '0S']"
      ]
     },
     "execution_count": 48,
     "metadata": {},
     "output_type": "execute_result"
    }
   ],
   "source": [
    "solution(\"1D2S#10S\")"
   ]
  },
  {
   "cell_type": "code",
   "execution_count": 49,
   "id": "0b1ca515",
   "metadata": {},
   "outputs": [
    {
     "data": {
      "text/plain": [
       "['1D', '2S', '0T']"
      ]
     },
     "execution_count": 49,
     "metadata": {},
     "output_type": "execute_result"
    }
   ],
   "source": [
    "solution(\"1D2S0T\")"
   ]
  },
  {
   "cell_type": "code",
   "execution_count": 50,
   "id": "0583a4e0",
   "metadata": {},
   "outputs": [
    {
     "data": {
      "text/plain": [
       "['1S', '*2', 'T*', '3S']"
      ]
     },
     "execution_count": 50,
     "metadata": {},
     "output_type": "execute_result"
    }
   ],
   "source": [
    "solution(\"1S*2T*3S\")"
   ]
  },
  {
   "cell_type": "code",
   "execution_count": 51,
   "id": "58c1a8f2",
   "metadata": {},
   "outputs": [
    {
     "data": {
      "text/plain": [
       "['1D', '#2', 'S*', '3S']"
      ]
     },
     "execution_count": 51,
     "metadata": {},
     "output_type": "execute_result"
    }
   ],
   "source": [
    "solution(\"1D#2S*3S\")"
   ]
  },
  {
   "cell_type": "code",
   "execution_count": 52,
   "id": "3ce4e6cf",
   "metadata": {},
   "outputs": [
    {
     "data": {
      "text/plain": [
       "['1T', '2D', '3D']"
      ]
     },
     "execution_count": 52,
     "metadata": {},
     "output_type": "execute_result"
    }
   ],
   "source": [
    "solution(\"1T2D3D#\")"
   ]
  },
  {
   "cell_type": "code",
   "execution_count": 53,
   "id": "862900db",
   "metadata": {},
   "outputs": [
    {
     "data": {
      "text/plain": [
       "['1D', '2S', '3T']"
      ]
     },
     "execution_count": 53,
     "metadata": {},
     "output_type": "execute_result"
    }
   ],
   "source": [
    "solution(\"1D2S3T*\")"
   ]
  },
  {
   "cell_type": "code",
   "execution_count": 91,
   "id": "981aaebf",
   "metadata": {},
   "outputs": [],
   "source": [
    "def solution(s):\n",
    "    j = 0 \n",
    "    cnt = 0 \n",
    "    ans =0\n",
    "    for idx,i in enumerate(s): \n",
    "        cnt += 1 if s[j] == i else -1 \n",
    "        if cnt == 0 : \n",
    "            ans +=1 \n",
    "            j = idx+1 \n",
    "    return ans + 1 if cnt else ans\n"
   ]
  },
  {
   "cell_type": "code",
   "execution_count": 92,
   "id": "edcf141a",
   "metadata": {},
   "outputs": [
    {
     "data": {
      "text/plain": [
       "3"
      ]
     },
     "execution_count": 92,
     "metadata": {},
     "output_type": "execute_result"
    }
   ],
   "source": [
    "solution(\"banana\")"
   ]
  },
  {
   "cell_type": "code",
   "execution_count": 93,
   "id": "cb898cb1",
   "metadata": {},
   "outputs": [
    {
     "data": {
      "text/plain": [
       "6"
      ]
     },
     "execution_count": 93,
     "metadata": {},
     "output_type": "execute_result"
    }
   ],
   "source": [
    "solution(\"abracadabra\")"
   ]
  },
  {
   "cell_type": "code",
   "execution_count": 137,
   "id": "3084df67",
   "metadata": {},
   "outputs": [
    {
     "ename": "TypeError",
     "evalue": "solution() missing 2 required positional arguments: 'skip' and 'index'",
     "output_type": "error",
     "traceback": [
      "\u001b[1;31m---------------------------------------------------------------------------\u001b[0m",
      "\u001b[1;31mTypeError\u001b[0m                                 Traceback (most recent call last)",
      "Input \u001b[1;32mIn [137]\u001b[0m, in \u001b[0;36m<cell line: 1>\u001b[1;34m()\u001b[0m\n\u001b[1;32m----> 1\u001b[0m \u001b[43msolution\u001b[49m\u001b[43m(\u001b[49m\u001b[38;5;124;43m\"\u001b[39;49m\u001b[38;5;124;43maaabbaccccabba\u001b[39;49m\u001b[38;5;124;43m\"\u001b[39;49m\u001b[43m)\u001b[49m\n",
      "\u001b[1;31mTypeError\u001b[0m: solution() missing 2 required positional arguments: 'skip' and 'index'"
     ]
    }
   ],
   "source": [
    "solution(\"aaabbaccccabba\")"
   ]
  },
  {
   "cell_type": "code",
   "execution_count": 154,
   "id": "c55b3201",
   "metadata": {},
   "outputs": [],
   "source": [
    "def solution(s, skip, index):\n",
    "    answer = ''\n",
    "    temp=[]\n",
    "    asci=0\n",
    "    temp2=0\n",
    "    temp3=''\n",
    "    \n",
    "    for i in range(len(skip)):\n",
    "        asci=ord(skip[i])\n",
    "        temp.append(asci)\n",
    "    \n",
    "    for g in range(len(s)):\n",
    "        temp2=ord(s[g])\n",
    "        \n",
    "        for k in range(1, index+1):\n",
    "            temp2+=1\n",
    "            \n",
    "            for q in range(len(temp)):\n",
    "                if temp[q]==temp2:\n",
    "                    temp2+=1\n",
    "            \n",
    "        \n",
    "        if temp2>122:\n",
    "            temp2-=26\n",
    "        temp3=chr(temp2)\n",
    "        answer+=temp3\n",
    "        \n",
    "    \n",
    "    return answer"
   ]
  },
  {
   "cell_type": "code",
   "execution_count": 155,
   "id": "339687b5",
   "metadata": {},
   "outputs": [
    {
     "data": {
      "text/plain": [
       "'happy'"
      ]
     },
     "execution_count": 155,
     "metadata": {},
     "output_type": "execute_result"
    }
   ],
   "source": [
    "solution(\"aukks\", \"wbqd\", 5)"
   ]
  },
  {
   "cell_type": "code",
   "execution_count": 156,
   "id": "81d3249c",
   "metadata": {},
   "outputs": [
    {
     "data": {
      "text/plain": [
       "122"
      ]
     },
     "execution_count": 156,
     "metadata": {},
     "output_type": "execute_result"
    }
   ],
   "source": [
    "ord('z')"
   ]
  },
  {
   "cell_type": "code",
   "execution_count": 121,
   "id": "018292e6",
   "metadata": {},
   "outputs": [
    {
     "data": {
      "text/plain": [
       "97"
      ]
     },
     "execution_count": 121,
     "metadata": {},
     "output_type": "execute_result"
    }
   ],
   "source": [
    "ord('a')"
   ]
  },
  {
   "cell_type": "code",
   "execution_count": 122,
   "id": "62a7aa50",
   "metadata": {},
   "outputs": [
    {
     "data": {
      "text/plain": [
       "'\\x00'"
      ]
     },
     "execution_count": 122,
     "metadata": {},
     "output_type": "execute_result"
    }
   ],
   "source": [
    "chr(0)"
   ]
  },
  {
   "cell_type": "code",
   "execution_count": 148,
   "id": "0c180d70",
   "metadata": {},
   "outputs": [
    {
     "data": {
      "text/plain": [
       "97"
      ]
     },
     "execution_count": 148,
     "metadata": {},
     "output_type": "execute_result"
    }
   ],
   "source": [
    "122-25"
   ]
  },
  {
   "cell_type": "code",
   "execution_count": 140,
   "id": "3a684b27",
   "metadata": {},
   "outputs": [],
   "source": [
    "def solution(s, skip, index):\n",
    "    answer = ''\n",
    "    skip_set = set(ord(char) for char in skip)  # 스킵 문자의 ASCII 값을 집합으로 저장\n",
    "    \n",
    "    for char in s:\n",
    "        temp2 = ord(char)\n",
    "        \n",
    "        for _ in range(index):  # index만큼 반복\n",
    "            temp2 += 1\n",
    "            if temp2 > ord('z'):  # 'z'를 넘는 경우 'a'로 순환\n",
    "                temp2 = ord('a')\n",
    "            \n",
    "            while temp2 in skip_set:  # 스킵 문자일 경우 다음 문자로 이동\n",
    "                temp2 += 1\n",
    "                if temp2 > ord('z'):\n",
    "                    temp2 = ord('a')\n",
    "        \n",
    "        answer += chr(temp2)  # 최종 문자 값을 answer에 추가\n",
    "    \n",
    "    return answer\n"
   ]
  },
  {
   "cell_type": "code",
   "execution_count": 245,
   "id": "50896866",
   "metadata": {},
   "outputs": [],
   "source": [
    "import collections\n",
    "\n",
    "\n",
    "def solution(participant, completion):\n",
    "    answer = collections.Counter(participant) - collections.Counter(completion)\n",
    "    return list(answer.keys())[0]\n"
   ]
  },
  {
   "cell_type": "code",
   "execution_count": 246,
   "id": "362fc0af",
   "metadata": {},
   "outputs": [
    {
     "data": {
      "text/plain": [
       "'leo'"
      ]
     },
     "execution_count": 246,
     "metadata": {},
     "output_type": "execute_result"
    }
   ],
   "source": [
    "solution([\"leo\", \"kiki\", \"eden\"], \t[\"eden\", \"kiki\"])"
   ]
  },
  {
   "cell_type": "code",
   "execution_count": 248,
   "id": "a0e1278e",
   "metadata": {},
   "outputs": [
    {
     "data": {
      "text/plain": [
       "dict_keys(['leo', 'kiki', 'eden'])"
      ]
     },
     "execution_count": 248,
     "metadata": {},
     "output_type": "execute_result"
    }
   ],
   "source": [
    "li=[\"leo\", \"kiki\", \"eden\"]\n",
    "co=collections.Counter(li)\n",
    "co.keys()"
   ]
  },
  {
   "cell_type": "code",
   "execution_count": 242,
   "id": "e76f606e",
   "metadata": {},
   "outputs": [
    {
     "ename": "IndexError",
     "evalue": "list index out of range",
     "output_type": "error",
     "traceback": [
      "\u001b[1;31m---------------------------------------------------------------------------\u001b[0m",
      "\u001b[1;31mIndexError\u001b[0m                                Traceback (most recent call last)",
      "Input \u001b[1;32mIn [242]\u001b[0m, in \u001b[0;36m<cell line: 1>\u001b[1;34m()\u001b[0m\n\u001b[1;32m----> 1\u001b[0m \u001b[43msolution\u001b[49m\u001b[43m(\u001b[49m\u001b[43m[\u001b[49m\u001b[38;5;124;43m\"\u001b[39;49m\u001b[38;5;124;43mmislav\u001b[39;49m\u001b[38;5;124;43m\"\u001b[39;49m\u001b[43m,\u001b[49m\u001b[43m \u001b[49m\u001b[38;5;124;43m\"\u001b[39;49m\u001b[38;5;124;43mstanko\u001b[39;49m\u001b[38;5;124;43m\"\u001b[39;49m\u001b[43m,\u001b[49m\u001b[43m \u001b[49m\u001b[38;5;124;43m\"\u001b[39;49m\u001b[38;5;124;43mmislav\u001b[39;49m\u001b[38;5;124;43m\"\u001b[39;49m\u001b[43m,\u001b[49m\u001b[43m \u001b[49m\u001b[38;5;124;43m\"\u001b[39;49m\u001b[38;5;124;43mana\u001b[39;49m\u001b[38;5;124;43m\"\u001b[39;49m\u001b[43m]\u001b[49m\u001b[43m,\u001b[49m\u001b[43m \u001b[49m\u001b[43m[\u001b[49m\u001b[38;5;124;43m\"\u001b[39;49m\u001b[38;5;124;43mstanko\u001b[39;49m\u001b[38;5;124;43m\"\u001b[39;49m\u001b[43m,\u001b[49m\u001b[43m \u001b[49m\u001b[38;5;124;43m\"\u001b[39;49m\u001b[38;5;124;43mana\u001b[39;49m\u001b[38;5;124;43m\"\u001b[39;49m\u001b[43m,\u001b[49m\u001b[43m \u001b[49m\u001b[38;5;124;43m\"\u001b[39;49m\u001b[38;5;124;43mmislav\u001b[39;49m\u001b[38;5;124;43m\"\u001b[39;49m\u001b[43m]\u001b[49m\u001b[43m)\u001b[49m\n",
      "Input \u001b[1;32mIn [239]\u001b[0m, in \u001b[0;36msolution\u001b[1;34m(participant, completion)\u001b[0m\n\u001b[0;32m     16\u001b[0m real\u001b[38;5;241m=\u001b[39mparticipant\u001b[38;5;241m-\u001b[39mtemp\n\u001b[0;32m     17\u001b[0m real\u001b[38;5;241m=\u001b[39m\u001b[38;5;28mlist\u001b[39m(real)\n\u001b[1;32m---> 20\u001b[0m answer\u001b[38;5;241m=\u001b[39m\u001b[43mreal\u001b[49m\u001b[43m[\u001b[49m\u001b[38;5;241;43m0\u001b[39;49m\u001b[43m]\u001b[49m\n\u001b[0;32m     21\u001b[0m \u001b[38;5;28;01mreturn\u001b[39;00m real\n",
      "\u001b[1;31mIndexError\u001b[0m: list index out of range"
     ]
    }
   ],
   "source": [
    "solution([\"mislav\", \"stanko\", \"mislav\", \"ana\"], [\"stanko\", \"ana\", \"mislav\"])"
   ]
  },
  {
   "cell_type": "code",
   "execution_count": 205,
   "id": "1293c68d",
   "metadata": {},
   "outputs": [],
   "source": [
    "lista=['1', 'b']\n",
    "listb=['b']"
   ]
  },
  {
   "cell_type": "code",
   "execution_count": 209,
   "id": "d635c349",
   "metadata": {},
   "outputs": [
    {
     "ename": "SyntaxError",
     "evalue": "invalid syntax (442949355.py, line 1)",
     "output_type": "error",
     "traceback": [
      "\u001b[1;36m  Input \u001b[1;32mIn [209]\u001b[1;36m\u001b[0m\n\u001b[1;33m    lista&&listb\u001b[0m\n\u001b[1;37m          ^\u001b[0m\n\u001b[1;31mSyntaxError\u001b[0m\u001b[1;31m:\u001b[0m invalid syntax\n"
     ]
    }
   ],
   "source": [
    "lista&&listb"
   ]
  },
  {
   "cell_type": "code",
   "execution_count": null,
   "id": "6857427f",
   "metadata": {},
   "outputs": [],
   "source": []
  }
 ],
 "metadata": {
  "kernelspec": {
   "display_name": "Python 3 (ipykernel)",
   "language": "python",
   "name": "python3"
  },
  "language_info": {
   "codemirror_mode": {
    "name": "ipython",
    "version": 3
   },
   "file_extension": ".py",
   "mimetype": "text/x-python",
   "name": "python",
   "nbconvert_exporter": "python",
   "pygments_lexer": "ipython3",
   "version": "3.9.12"
  }
 },
 "nbformat": 4,
 "nbformat_minor": 5
}
