{
 "cells": [
  {
   "cell_type": "code",
   "execution_count": 49,
   "id": "9caac1f8",
   "metadata": {},
   "outputs": [],
   "source": [
    "def solution(want, number, discount):\n",
    "    answer = 0\n",
    "    temp=[0 for i in range(len(want))]\n",
    "    \n",
    "    for i in range(len(discount)):\n",
    "        for k in range(len(want)):\n",
    "            if want[k]==discount[i]: temp[k]=temp[k]+1\n",
    "            if number[k]==temp[k]: \n",
    "                answer=i+1\n",
    "                return answer\n",
    "                \n",
    "                \n",
    "    return answer"
   ]
  },
  {
   "cell_type": "code",
   "execution_count": 50,
   "id": "3046ca61",
   "metadata": {},
   "outputs": [
    {
     "data": {
      "text/plain": [
       "[0, 2, 0, 0, 0]"
      ]
     },
     "execution_count": 50,
     "metadata": {},
     "output_type": "execute_result"
    }
   ],
   "source": [
    "solution([\"banana\", \"apple\", \"rice\", \"pork\", \"pot\"], [3, 2, 2, 2, 1], \n",
    "         [\"chicken\", \"apple\", \"apple\", \"banana\", \"rice\", \"apple\", \"pork\", \n",
    "          \"banana\", \"pork\", \"rice\", \"pot\", \"banana\", \"apple\", \"banana\"])"
   ]
  },
  {
   "cell_type": "code",
   "execution_count": 40,
   "id": "c911d341",
   "metadata": {},
   "outputs": [
    {
     "data": {
      "text/plain": [
       "0"
      ]
     },
     "execution_count": 40,
     "metadata": {},
     "output_type": "execute_result"
    }
   ],
   "source": [
    "solution([\"apple\"], [10], [\"banana\", \"banana\", \"banana\", \"banana\", \"banana\", \"banana\", \"banana\", \"banana\", \"banana\", \"banana\"])"
   ]
  },
  {
   "cell_type": "code",
   "execution_count": 6,
   "id": "2c200d18",
   "metadata": {},
   "outputs": [
    {
     "ename": "SyntaxError",
     "evalue": "invalid syntax (3728496999.py, line 1)",
     "output_type": "error",
     "traceback": [
      "\u001b[1;36m  Input \u001b[1;32mIn [6]\u001b[1;36m\u001b[0m\n\u001b[1;33m    할인제품 하나씩만\u001b[0m\n\u001b[1;37m         ^\u001b[0m\n\u001b[1;31mSyntaxError\u001b[0m\u001b[1;31m:\u001b[0m invalid syntax\n"
     ]
    }
   ],
   "source": [
    "할인제품 하나씩만\n",
    "\n",
    "바나나 사과 쌀 돼지 냄비\n",
    "\n",
    "치킨, 사과 바나나 쌀 사과 돼지고기 바나나 돼지고기 쌀"
   ]
  },
  {
   "cell_type": "code",
   "execution_count": 13,
   "id": "db69170e",
   "metadata": {},
   "outputs": [
    {
     "name": "stdout",
     "output_type": "stream",
     "text": [
      "[0, 0, 0]\n"
     ]
    }
   ],
   "source": [
    "temp=[0 for i in range(3)]\n",
    "print(temp)"
   ]
  },
  {
   "cell_type": "code",
   "execution_count": 51,
   "id": "aaf4f955",
   "metadata": {},
   "outputs": [],
   "source": [
    "from collections import Counter\n",
    "\n",
    "def solution(want, number, discount):\n",
    "    answer = 0\n",
    "    want_dict = dict(zip(want, number))  # 원하는 제품과 수량을 딕셔너리로 매핑\n",
    "    \n",
    "    for i in range(len(discount) - 9):  # 슬라이딩 윈도우로 10일 간의 기간을 검사\n",
    "        # 현재 윈도우의 10일 간의 제품을 카운팅\n",
    "        window = discount[i:i+10]\n",
    "        window_counter = Counter(window)\n",
    "        \n",
    "        # 모든 원하는 제품이 원하는 수량만큼 있는지 확인\n",
    "        if all(window_counter.get(w, 0) >= want_dict[w] for w in want_dict):\n",
    "            answer += 1\n",
    "    \n",
    "    return answer\n"
   ]
  },
  {
   "cell_type": "code",
   "execution_count": 56,
   "id": "1c453fd7",
   "metadata": {},
   "outputs": [],
   "source": [
    "def solution(ls):\n",
    "    return min(len(ls)/2, len(set(ls)))\n"
   ]
  },
  {
   "cell_type": "code",
   "execution_count": 57,
   "id": "be53e739",
   "metadata": {},
   "outputs": [
    {
     "data": {
      "text/plain": [
       "2.0"
      ]
     },
     "execution_count": 57,
     "metadata": {},
     "output_type": "execute_result"
    }
   ],
   "source": [
    "solution([3,1,2,3])"
   ]
  },
  {
   "cell_type": "code",
   "execution_count": 58,
   "id": "72ff846b",
   "metadata": {},
   "outputs": [
    {
     "data": {
      "text/plain": [
       "3.0"
      ]
     },
     "execution_count": 58,
     "metadata": {},
     "output_type": "execute_result"
    }
   ],
   "source": [
    "solution([3,3,3,2,2,4])"
   ]
  },
  {
   "cell_type": "code",
   "execution_count": 59,
   "id": "6d1df428",
   "metadata": {},
   "outputs": [
    {
     "data": {
      "text/plain": [
       "2"
      ]
     },
     "execution_count": 59,
     "metadata": {},
     "output_type": "execute_result"
    }
   ],
   "source": [
    "solution([3,3,3,2,2,2])"
   ]
  },
  {
   "cell_type": "code",
   "execution_count": 62,
   "id": "5729f397",
   "metadata": {},
   "outputs": [
    {
     "name": "stdout",
     "output_type": "stream",
     "text": [
      "TUE\n"
     ]
    }
   ],
   "source": [
    "def getDayName(a,b):\n",
    "    month = [31, 29, 31, 30, 31, 30, 31, 31, 30, 31, 30, 31]\n",
    "    day = ['FRI', 'SAT', 'SUN', 'MON', 'TUE', 'WED', 'THU']\n",
    "    return day[(sum(month[:a-1])+b-1)%7]\n",
    "\n",
    "#아래 코드는 테스트를 위한 출력 코드입니다.\n",
    "print(getDayName(5,24))"
   ]
  },
  {
   "cell_type": "code",
   "execution_count": 65,
   "id": "4b7712af",
   "metadata": {},
   "outputs": [],
   "source": [
    "def solution(arr1, arr2):\n",
    "    answer = [[]]\n",
    "    return answer"
   ]
  },
  {
   "cell_type": "code",
   "execution_count": 63,
   "id": "c030d47f",
   "metadata": {},
   "outputs": [
    {
     "data": {
      "text/plain": [
       "''"
      ]
     },
     "execution_count": 63,
     "metadata": {},
     "output_type": "execute_result"
    }
   ],
   "source": [
    "solution([[1, 4], [3, 2], [4, 1]], [[3, 3], [3, 3]])"
   ]
  },
  {
   "cell_type": "code",
   "execution_count": 64,
   "id": "5d90c31a",
   "metadata": {},
   "outputs": [
    {
     "data": {
      "text/plain": [
       "''"
      ]
     },
     "execution_count": 64,
     "metadata": {},
     "output_type": "execute_result"
    }
   ],
   "source": [
    "solution([[2, 3, 2], [4, 2, 4], [3, 1, 4]], [[5, 4, 3], [2, 4, 1], [3, 1, 1]])"
   ]
  },
  {
   "cell_type": "code",
   "execution_count": 79,
   "id": "e5bd4ddb",
   "metadata": {},
   "outputs": [
    {
     "ename": "IndentationError",
     "evalue": "expected an indented block (120715928.py, line 13)",
     "output_type": "error",
     "traceback": [
      "\u001b[1;36m  Input \u001b[1;32mIn [79]\u001b[1;36m\u001b[0m\n\u001b[1;33m    return answer\u001b[0m\n\u001b[1;37m    ^\u001b[0m\n\u001b[1;31mIndentationError\u001b[0m\u001b[1;31m:\u001b[0m expected an indented block\n"
     ]
    }
   ],
   "source": [
    "def solution(answers):\n",
    "    answer = []\n",
    "    \n",
    "    one=[1,2,3,4,5]\n",
    "    two=[2,1,2,3,2,4,2,5]\n",
    "    three=[3,3,1,1,2,2,4,4,5,5]\n",
    "    count1=0\n",
    "    count2=0\n",
    "    count3=0\n",
    "    \n",
    "    for i in range(len(one)):\n",
    "        for g in range(len(answers)):\n",
    "            if one[i]==\n",
    "            \n",
    "    return answer"
   ]
  },
  {
   "cell_type": "code",
   "execution_count": 78,
   "id": "f916797d",
   "metadata": {},
   "outputs": [
    {
     "data": {
      "text/plain": [
       "[]"
      ]
     },
     "execution_count": 78,
     "metadata": {},
     "output_type": "execute_result"
    }
   ],
   "source": [
    "solution([1,2,3,4,5])"
   ]
  },
  {
   "cell_type": "code",
   "execution_count": 69,
   "id": "3d546b07",
   "metadata": {},
   "outputs": [
    {
     "data": {
      "text/plain": [
       "0"
      ]
     },
     "execution_count": 69,
     "metadata": {},
     "output_type": "execute_result"
    }
   ],
   "source": [
    "solution([1,3,2,4,2])"
   ]
  },
  {
   "cell_type": "code",
   "execution_count": 75,
   "id": "cd31254a",
   "metadata": {},
   "outputs": [],
   "source": [
    "answer=[]\n",
    "answer.append(3)"
   ]
  },
  {
   "cell_type": "code",
   "execution_count": 76,
   "id": "377c0765",
   "metadata": {},
   "outputs": [
    {
     "data": {
      "text/plain": [
       "[3]"
      ]
     },
     "execution_count": 76,
     "metadata": {},
     "output_type": "execute_result"
    }
   ],
   "source": [
    "answer"
   ]
  },
  {
   "cell_type": "code",
   "execution_count": 87,
   "id": "45854466",
   "metadata": {},
   "outputs": [],
   "source": [
    "def solution(number, limit, power):\n",
    "    answer = 0\n",
    "    temp=0\n",
    "    \n",
    "    for i in range(1, number+1):\n",
    "        if number%i==0:temp+=1\n",
    "            \n",
    "    if temp>limit: answer=power\n",
    "    else: answer=temp\n",
    "    return answer"
   ]
  },
  {
   "cell_type": "code",
   "execution_count": 137,
   "id": "13dbf93c",
   "metadata": {},
   "outputs": [],
   "source": [
    "def solution(number, limit, power):\n",
    "    answer = []\n",
    "    real=0\n",
    "    temp3=[]\n",
    "    \n",
    "    for i in range(1, number+1):\n",
    "        for k in range(1, i+1):\n",
    "            for g in range(1, k+1):\n",
    "                if k%g==0: temp+=1\n",
    "                    \n",
    "        temp3.append(temp)\n",
    "    \n",
    "    for i in range(len(temp3)):\n",
    "        if temp3[i]>limit:answer.append(power)\n",
    "        else: answer.append(temp3[i])   \n",
    "    \n",
    "    for i in range(len(temp3)):\n",
    "        real+=answer[i]\n",
    "    return real"
   ]
  },
  {
   "cell_type": "code",
   "execution_count": 138,
   "id": "25d7ee13",
   "metadata": {},
   "outputs": [
    {
     "data": {
      "text/plain": [
       "10"
      ]
     },
     "execution_count": 138,
     "metadata": {},
     "output_type": "execute_result"
    }
   ],
   "source": [
    "solution(5,3,2)"
   ]
  },
  {
   "cell_type": "code",
   "execution_count": 139,
   "id": "3844bc2d",
   "metadata": {},
   "outputs": [
    {
     "data": {
      "text/plain": [
       "21"
      ]
     },
     "execution_count": 139,
     "metadata": {},
     "output_type": "execute_result"
    }
   ],
   "source": [
    "solution(10,3,2)"
   ]
  },
  {
   "cell_type": "code",
   "execution_count": 140,
   "id": "f31acdc1",
   "metadata": {},
   "outputs": [
    {
     "ename": "SyntaxError",
     "evalue": "invalid syntax (2019801725.py, line 6)",
     "output_type": "error",
     "traceback": [
      "\u001b[1;36m  Input \u001b[1;32mIn [140]\u001b[1;36m\u001b[0m\n\u001b[1;33m    for i in range(1, numb||er + 1):\u001b[0m\n\u001b[1;37m                           ^\u001b[0m\n\u001b[1;31mSyntaxError\u001b[0m\u001b[1;31m:\u001b[0m invalid syntax\n"
     ]
    }
   ],
   "source": [
    "def solution(number, limit, power):\n",
    "    # 약수의 개수를 저장할 배열\n",
    "    divisors_count = [0] * (number + 1)\n",
    "    \n",
    "    # 약수 개수를 계산\n",
    "    for i in range(1, number + 1):\n",
    "        for j in range(i, number + 1, i):\n",
    "            divisors_count[j] += 1\n",
    "    \n",
    "    # 결과를 계산\n",
    "    result = 0\n",
    "    for count in divisors_count[1:]:\n",
    "        if count > limit:\n",
    "            result += power\n",
    "        else:\n",
    "            result += count\n",
    "            \n",
    "    return result\n"
   ]
  },
  {
   "cell_type": "code",
   "execution_count": null,
   "id": "e73526e1",
   "metadata": {},
   "outputs": [],
   "source": []
  }
 ],
 "metadata": {
  "kernelspec": {
   "display_name": "Python 3 (ipykernel)",
   "language": "python",
   "name": "python3"
  },
  "language_info": {
   "codemirror_mode": {
    "name": "ipython",
    "version": 3
   },
   "file_extension": ".py",
   "mimetype": "text/x-python",
   "name": "python",
   "nbconvert_exporter": "python",
   "pygments_lexer": "ipython3",
   "version": "3.9.12"
  }
 },
 "nbformat": 4,
 "nbformat_minor": 5
}
