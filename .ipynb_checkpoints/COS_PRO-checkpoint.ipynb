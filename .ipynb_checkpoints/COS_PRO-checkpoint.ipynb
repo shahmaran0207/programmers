{
 "cells": [
  {
   "cell_type": "code",
   "execution_count": 1,
   "id": "59f4ce4e-b29f-42d8-b1f5-e09aaa87143f",
   "metadata": {},
   "outputs": [],
   "source": [
    "def solution(prices):\n",
    "\tINF = 1000000001;\n",
    "\ttmp = INF\n",
    "\tanswer = -INF\n",
    "\tfor price in prices:\n",
    "\t\tif tmp != INF:\n",
    "\t\t\tanswer = max(answer, tmp - price)\n",
    "\t\ttmp = min(tmp, price)\n",
    "\treturn answer"
   ]
  },
  {
   "cell_type": "code",
   "execution_count": 1,
   "id": "67f04a5c-81b3-4e3f-993d-e0aaf5fdbf96",
   "metadata": {},
   "outputs": [],
   "source": [
    "# -*- coding: utf-8 -*-\n",
    "# UTF-8 encoding when using korean\n",
    "\n",
    "def solution(k):\n",
    "\tanswer = []\n",
    "\tfor i in range(1, k + 1):\n",
    "\t\tsquare_num = i * i\n",
    "\t\tdivisor = 1\n",
    "\t\twhile square_num // divisor != 0:\n",
    "\t\t\tfront = square_num // divisor\n",
    "\t\t\tback = square_num % divisor\n",
    "\t\t\tdivisor *= 10\n",
    "\t\t\tif back != 0 and front != 0:\n",
    "\t\t\t\tif front + back == i:\n",
    "\t\t\t\t\tanswer.append(i)\n",
    "\treturn answer"
   ]
  },
  {
   "cell_type": "code",
   "execution_count": 4,
   "id": "bdfd77ee-2395-4f9e-a68d-a7e4045481e5",
   "metadata": {},
   "outputs": [],
   "source": [
    "# -*- coding: utf-8 -*-\n",
    "# UTF-8 encoding when using korean\n",
    "\n",
    "def solution(k, student):\n",
    "\tanswer = 0\n",
    "\ttmp=0\n",
    "\tfor s in student:\n",
    "\t\ts -= 4*k\n",
    "\t\tif s <= 0:\n",
    "\t\t\tbreak\n",
    "\t\ttmp = s // k if isinstance(s // k, int) else (s // k) + 1\n",
    "\n",
    "\t\tanswer+=tmp\n",
    "\treturn answer"
   ]
  },
  {
   "cell_type": "code",
   "execution_count": 8,
   "id": "35b2e6c9-4804-4728-9f64-fff49ff736f0",
   "metadata": {},
   "outputs": [],
   "source": [
    "def solution(k, student):\n",
    "\tanswer = 0\n",
    "\t\n",
    "\tfor s in student:\n",
    "\t\ttmp=0\n",
    "\t\ts -= 4*k\n",
    "\t\tif s <= 0:\n",
    "\t\t\tbreak\n",
    "\t\ttmp = s // k if s % k == 0 else (s // k) + 1\n",
    "\t\tanswer+=tmp\n",
    "\treturn answer"
   ]
  },
  {
   "cell_type": "code",
   "execution_count": 5,
   "id": "f1afafc1-4d6c-4eb0-a83a-fd1a6cd25d9e",
   "metadata": {},
   "outputs": [],
   "source": [
    "def solution(s):\n",
    "\ts = s.lower()\n",
    "\tanswer = \"\"\n",
    "\tprevious = s[0]\n",
    "\tcounter = 1\n",
    "\tfor alphabet in s[1:]:\n",
    "\t\tif alphabet == previous:\n",
    "\t\t\tcounter += 1\n",
    "\t\telse:\n",
    "\t\t\tanswer += previous + str(counter)\n",
    "\t\t\tcounter = 1\n",
    "\t\t\tprevious = alphabet\n",
    "\tanswer += previous + str(counter)\n",
    "\treturn answer"
   ]
  },
  {
   "cell_type": "code",
   "execution_count": 6,
   "id": "09a701c0-ffea-4ddb-8f54-8d91f3bea3dc",
   "metadata": {},
   "outputs": [],
   "source": [
    "# -*- coding: utf-8 -*-\n",
    "# UTF-8 encoding when using korean\n",
    "\n",
    "def solution(one_day_price, multi_day, multi_day_price, n):\n",
    "\tif one_day_price * multi_day <= multi_day_price:\n",
    "\t\treturn n * one_day_price\n",
    "\telse:\n",
    "\t\treturn (n % multi_day) * one_day_price + (n // multi_day) * multi_day_price"
   ]
  },
  {
   "cell_type": "code",
   "execution_count": 8,
   "id": "e3fb7e5a-da43-4075-af93-567bcf40a2fb",
   "metadata": {},
   "outputs": [],
   "source": [
    "# -*- coding: utf-8 -*-\n",
    "# UTF-8 encoding when using korean\n",
    "\n",
    "def func_a(matrix):\n",
    "\tn = 4\n",
    "\tret = []\n",
    "\texist = [False for _ in range(n*n + 1)]\n",
    "\tfor i in range(0, n):\n",
    "\t\tfor j in range(0, n):\n",
    "\t\t\texist[matrix[i][j]] = True\n",
    "\tfor i in range(1, n*n+1):\n",
    "\t\tif exist[i] == False:\n",
    "\t\t\tret.append(i)\n",
    "\treturn ret\n",
    "\n",
    "def func_b(matrix):\n",
    "\tn = 4\n",
    "\tret = []\n",
    "\tfor i in range(0, n):\n",
    "\t\tfor j in range(0, n):\n",
    "\t\t\tif matrix[i][j] == 0:\n",
    "\t\t\t\tret.append([i, j])\n",
    "\treturn ret\n",
    "\n",
    "def func_c(matrix):\n",
    "\tn = 4\n",
    "\tgoal_sum = sum(range(1, n*n+1))//n\n",
    "\tfor i in range(0, n):\n",
    "\t\trow_sum = 0\n",
    "\t\tcol_sum = 0\n",
    "\t\tfor j in range(0, n):\n",
    "\t\t\trow_sum += matrix[i][j]\n",
    "\t\t\tcol_sum += matrix[j][i]\n",
    "\t\tif row_sum != goal_sum or col_sum != goal_sum:\n",
    "\t\t\treturn False\n",
    "\n",
    "\tmain_diagonal_sum = 0\n",
    "\tskew_diagonal_sum = 0\n",
    "\tfor i in range(0, n):\n",
    "\t\tmain_diagonal_sum += matrix[i][i]\n",
    "\t\tskew_diagonal_sum += matrix[i][n-1-i]\n",
    "\tif main_diagonal_sum != goal_sum or skew_diagonal_sum != goal_sum:\n",
    "\t\treturn False\n",
    "\treturn True\n",
    "\n",
    "\n",
    "def solution(matrix):\n",
    "\tanswer = []\n",
    "\tcoords = func_b(matrix)\n",
    "\tnums = func_a(matrix)\n",
    "\n",
    "\tmatrix[coords[0][0]][coords[0][1]] = nums[0]\n",
    "\tmatrix[coords[1][0]][coords[1][1]] = nums[1]\n",
    "\tif func_c(matrix):\n",
    "\t\tfor i in range(0, 2):\n",
    "\t\t\tanswer.append(coords[i][0] + 1)\n",
    "\t\t\tanswer.append(coords[i][1] + 1)\n",
    "\t\t\tanswer.append(nums[i])\n",
    "\telse:\n",
    "\t\tmatrix[coords[0][0]][coords[0][1]] = nums[1]\n",
    "\t\tmatrix[coords[1][0]][coords[1][1]] = nums[0]\n",
    "\t\tfor i in range(0, 2):\n",
    "\t\t\tanswer.append(coords[1-i][0] + 1)\n",
    "\t\t\tanswer.append(coords[1-i][1] + 1)\n",
    "\t\t\tanswer.append(nums[i])\n",
    "\treturn answer"
   ]
  },
  {
   "cell_type": "code",
   "execution_count": 9,
   "id": "40da8893-3e55-4f64-bc6b-8c69b325d918",
   "metadata": {},
   "outputs": [],
   "source": [
    "answer='123'"
   ]
  },
  {
   "cell_type": "code",
   "execution_count": 16,
   "id": "72cb542b-3300-40a9-8add-b98cc4392210",
   "metadata": {},
   "outputs": [
    {
     "data": {
      "text/plain": [
       "'321'"
      ]
     },
     "execution_count": 16,
     "metadata": {},
     "output_type": "execute_result"
    }
   ],
   "source": [
    "answer=answer[::-1]\n",
    "answer"
   ]
  },
  {
   "cell_type": "code",
   "execution_count": null,
   "id": "8f66baaf-4679-47f7-a498-3cdd759affd6",
   "metadata": {},
   "outputs": [],
   "source": []
  }
 ],
 "metadata": {
  "kernelspec": {
   "display_name": "Python 3 (ipykernel)",
   "language": "python",
   "name": "python3"
  },
  "language_info": {
   "codemirror_mode": {
    "name": "ipython",
    "version": 3
   },
   "file_extension": ".py",
   "mimetype": "text/x-python",
   "name": "python",
   "nbconvert_exporter": "python",
   "pygments_lexer": "ipython3",
   "version": "3.11.7"
  }
 },
 "nbformat": 4,
 "nbformat_minor": 5
}
