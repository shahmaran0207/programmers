{
 "cells": [
  {
   "cell_type": "code",
   "execution_count": 66,
   "id": "9d262ffa",
   "metadata": {},
   "outputs": [],
   "source": [
    "import math\n",
    "def isprime(n):\n",
    "    count=0\n",
    "    inte=int(math.sqrt(n))\n",
    "    \n",
    "    for g in range(2, inte+1):\n",
    "        if n%g ==0: count+=1\n",
    "    return count\n",
    "\n",
    "def solution(n):\n",
    "    answer = 1\n",
    "    \n",
    "    for i in range(3, n+1, 2):\n",
    "        count=0\n",
    "        \n",
    "        if isprime(i)==0: answer+=1\n",
    "\n",
    "    return answer"
   ]
  },
  {
   "cell_type": "code",
   "execution_count": 67,
   "id": "77903c1d",
   "metadata": {},
   "outputs": [
    {
     "data": {
      "text/plain": [
       "4"
      ]
     },
     "execution_count": 67,
     "metadata": {},
     "output_type": "execute_result"
    }
   ],
   "source": [
    "solution(10)"
   ]
  },
  {
   "cell_type": "code",
   "execution_count": 68,
   "id": "4d9c1e93",
   "metadata": {},
   "outputs": [
    {
     "data": {
      "text/plain": [
       "3"
      ]
     },
     "execution_count": 68,
     "metadata": {},
     "output_type": "execute_result"
    }
   ],
   "source": [
    "solution(5)"
   ]
  },
  {
   "cell_type": "code",
   "execution_count": 59,
   "id": "c89a707e",
   "metadata": {},
   "outputs": [
    {
     "data": {
      "text/plain": [
       "2"
      ]
     },
     "execution_count": 59,
     "metadata": {},
     "output_type": "execute_result"
    }
   ],
   "source": [
    "p=5\n",
    "int(math.sqrt(p))"
   ]
  },
  {
   "cell_type": "code",
   "execution_count": 69,
   "id": "2615c575",
   "metadata": {},
   "outputs": [],
   "source": [
    "import math\n",
    "\n",
    "def isprime(n):\n",
    "    if n <= 1:\n",
    "        return False\n",
    "    if n == 2:\n",
    "        return True\n",
    "    if n % 2 == 0:\n",
    "        return False\n",
    "    \n",
    "    inte = int(math.sqrt(n))\n",
    "    \n",
    "    for g in range(3, inte + 1, 2):\n",
    "        if n % g == 0:\n",
    "            return False\n",
    "    return True\n",
    "\n",
    "def solution(n):\n",
    "    if n < 2:\n",
    "        return 0\n",
    "    if n == 2:\n",
    "        return 1\n",
    "    \n",
    "    answer = 1  # Count 2 as the first prime\n",
    "    \n",
    "    for i in range(3, n + 1, 2):\n",
    "        if isprime(i):\n",
    "            answer += 1\n",
    "\n",
    "    return answer\n"
   ]
  },
  {
   "cell_type": "code",
   "execution_count": 119,
   "id": "bce6c7ec",
   "metadata": {},
   "outputs": [],
   "source": [
    "def solution(N, stages):\n",
    "    answer = []\n",
    "    count=0\n",
    "    stages.sort()\n",
    "    \n",
    "    for i in range(len(stages)-1):\n",
    "        if stages[i]==stages[i+1]: count+=1\n",
    "        else: break\n",
    "\n",
    "        \n",
    "    return count"
   ]
  },
  {
   "cell_type": "code",
   "execution_count": 123,
   "id": "d230c44c",
   "metadata": {},
   "outputs": [
    {
     "data": {
      "text/plain": [
       "3"
      ]
     },
     "execution_count": 123,
     "metadata": {},
     "output_type": "execute_result"
    }
   ],
   "source": []
  },
  {
   "cell_type": "code",
   "execution_count": 124,
   "id": "54d280a0",
   "metadata": {},
   "outputs": [
    {
     "data": {
      "text/plain": [
       "4"
      ]
     },
     "execution_count": 124,
     "metadata": {},
     "output_type": "execute_result"
    }
   ],
   "source": []
  },
  {
   "cell_type": "code",
   "execution_count": 118,
   "id": "ca02995f",
   "metadata": {},
   "outputs": [],
   "source": [
    "stages=[2, 1, 2, 6, 2, 4, 3, 3]\n",
    "stages.sort()"
   ]
  },
  {
   "cell_type": "code",
   "execution_count": 112,
   "id": "635aaf20",
   "metadata": {},
   "outputs": [
    {
     "name": "stdout",
     "output_type": "stream",
     "text": [
      "[1, 2, 2, 2, 3, 3, 4, 6]\n"
     ]
    }
   ],
   "source": [
    "print(stages)\n",
    "count=[]"
   ]
  },
  {
   "cell_type": "code",
   "execution_count": 113,
   "id": "58a52c81",
   "metadata": {},
   "outputs": [],
   "source": [
    "    for i in range(len(stages)-1):\n",
    "        if stages[i]==stages[i+1]: count.append(i)"
   ]
  },
  {
   "cell_type": "code",
   "execution_count": 114,
   "id": "96093d9e",
   "metadata": {},
   "outputs": [
    {
     "data": {
      "text/plain": [
       "[1, 2, 4]"
      ]
     },
     "execution_count": 114,
     "metadata": {},
     "output_type": "execute_result"
    }
   ],
   "source": [
    "count\n"
   ]
  },
  {
   "cell_type": "code",
   "execution_count": 250,
   "id": "936567f4",
   "metadata": {},
   "outputs": [],
   "source": [
    "def solution(N, stages):\n",
    "    fail = {}\n",
    "    \n",
    "    for i in range(1, N+1):\n",
    "        pass_cnt = 0\n",
    "        succ_cnt = 0\n",
    "        for s in stages:\n",
    "            # stage가 i보다 크면 지나왔고, 해당 스테이지도 성공한 것\n",
    "            if s > i:\n",
    "                pass_cnt += 1\n",
    "                succ_cnt += 1\n",
    "            # 같기만 하면 지나오기만 한 것\n",
    "            elif s == i:\n",
    "                pass_cnt += 1\n",
    "        \n",
    "        # 한번도 안 지나간 stage는 0으로 처리해야 하므로 별도로 if문으로 뺀다\n",
    "        if pass_cnt != 0:\n",
    "            fail[i] = (pass_cnt - succ_cnt) / pass_cnt\n",
    "        else:\n",
    "            fail[i] = 0\n",
    "    \n",
    "    fail_rate = sorted(fail, key=lambda x: fail[x], reverse = True)\n",
    "    \n",
    "    return fail_rate"
   ]
  },
  {
   "cell_type": "code",
   "execution_count": 251,
   "id": "69a4addd",
   "metadata": {},
   "outputs": [
    {
     "data": {
      "text/plain": [
       "[3, 4, 2, 1, 5]"
      ]
     },
     "execution_count": 251,
     "metadata": {},
     "output_type": "execute_result"
    }
   ],
   "source": [
    "solution(5,[2, 1, 2, 6, 2, 4, 3, 3]\t)"
   ]
  },
  {
   "cell_type": "code",
   "execution_count": 252,
   "id": "f714e675",
   "metadata": {},
   "outputs": [
    {
     "data": {
      "text/plain": [
       "[4, 1, 2, 3]"
      ]
     },
     "execution_count": 252,
     "metadata": {},
     "output_type": "execute_result"
    }
   ],
   "source": [
    "solution(4,[4,4,4,4,4])"
   ]
  },
  {
   "cell_type": "code",
   "execution_count": null,
   "id": "47caea80",
   "metadata": {},
   "outputs": [],
   "source": []
  },
  {
   "cell_type": "code",
   "execution_count": null,
   "id": "db2db15d",
   "metadata": {},
   "outputs": [],
   "source": []
  }
 ],
 "metadata": {
  "kernelspec": {
   "display_name": "Python 3 (ipykernel)",
   "language": "python",
   "name": "python3"
  },
  "language_info": {
   "codemirror_mode": {
    "name": "ipython",
    "version": 3
   },
   "file_extension": ".py",
   "mimetype": "text/x-python",
   "name": "python",
   "nbconvert_exporter": "python",
   "pygments_lexer": "ipython3",
   "version": "3.9.12"
  }
 },
 "nbformat": 4,
 "nbformat_minor": 5
}
