{
 "cells": [
  {
   "cell_type": "code",
   "execution_count": 5,
   "id": "28f2cb2f",
   "metadata": {},
   "outputs": [
    {
     "data": {
      "text/plain": [
       "[1, 2, 3, 4]"
      ]
     },
     "execution_count": 5,
     "metadata": {},
     "output_type": "execute_result"
    }
   ],
   "source": [
    "li=[1,2,3,4]\n",
    "li"
   ]
  },
  {
   "cell_type": "code",
   "execution_count": 6,
   "id": "ff353c77",
   "metadata": {},
   "outputs": [],
   "source": [
    "del li[0]"
   ]
  },
  {
   "cell_type": "code",
   "execution_count": 7,
   "id": "4bf30498",
   "metadata": {},
   "outputs": [
    {
     "data": {
      "text/plain": [
       "[2, 3, 4]"
      ]
     },
     "execution_count": 7,
     "metadata": {},
     "output_type": "execute_result"
    }
   ],
   "source": [
    "li"
   ]
  },
  {
   "cell_type": "code",
   "execution_count": 38,
   "id": "c57ceed2",
   "metadata": {},
   "outputs": [],
   "source": [
    "def solution(food):\n",
    "    answer = ''\n",
    "    temp3=0\n",
    "    \n",
    "    del food[0]\n",
    "    \n",
    "    for i in range(len(food)):\n",
    "        if food[i]%2 !=0: food[i]-=1\n",
    "        temp3=int(food[i]/2)\n",
    "    \n",
    "    return temp3"
   ]
  },
  {
   "cell_type": "code",
   "execution_count": 39,
   "id": "95ed9017",
   "metadata": {},
   "outputs": [
    {
     "data": {
      "text/plain": [
       "3"
      ]
     },
     "execution_count": 39,
     "metadata": {},
     "output_type": "execute_result"
    }
   ],
   "source": [
    "solution([1,3,4,6])"
   ]
  },
  {
   "cell_type": "code",
   "execution_count": 15,
   "id": "ea95aaa0",
   "metadata": {},
   "outputs": [
    {
     "data": {
      "text/plain": [
       "[6, 0, 2]"
      ]
     },
     "execution_count": 15,
     "metadata": {},
     "output_type": "execute_result"
    }
   ],
   "source": [
    "solution([1,7,1,2])"
   ]
  },
  {
   "cell_type": "code",
   "execution_count": 69,
   "id": "35e78761",
   "metadata": {},
   "outputs": [],
   "source": [
    "def solution(food):\n",
    "    answer = ''\n",
    "    temp=''\n",
    "    temp2=1\n",
    "    temp3=0\n",
    "    temp4=''\n",
    "    del food[0]\n",
    "    \n",
    "    for i in range(len(food)):\n",
    "        if food[i]%2 !=0: food[i]-=1\n",
    "    \n",
    "    for i in range(len(food)):\n",
    "        if food[i]==0:\n",
    "            temp2+=1\n",
    "            continue\n",
    "        temp3=int(food[i]/2)\n",
    "        \n",
    "        for g in range(1,temp3+1):\n",
    "            temp+=str(temp2)\n",
    "        temp2+=1\n",
    "    \n",
    "    answer=temp+'0'\n",
    "    \n",
    "    for i in reversed(range(len(temp))):\n",
    "        answer+=temp[i]\n",
    "        \n",
    "    return answer"
   ]
  },
  {
   "cell_type": "code",
   "execution_count": 70,
   "id": "590e470f",
   "metadata": {},
   "outputs": [
    {
     "data": {
      "text/plain": [
       "'1223330333221'"
      ]
     },
     "execution_count": 70,
     "metadata": {},
     "output_type": "execute_result"
    }
   ],
   "source": [
    "solution([1,3,4,6])"
   ]
  },
  {
   "cell_type": "code",
   "execution_count": null,
   "id": "9a43448d",
   "metadata": {},
   "outputs": [],
   "source": []
  }
 ],
 "metadata": {
  "kernelspec": {
   "display_name": "Python 3 (ipykernel)",
   "language": "python",
   "name": "python3"
  },
  "language_info": {
   "codemirror_mode": {
    "name": "ipython",
    "version": 3
   },
   "file_extension": ".py",
   "mimetype": "text/x-python",
   "name": "python",
   "nbconvert_exporter": "python",
   "pygments_lexer": "ipython3",
   "version": "3.9.12"
  }
 },
 "nbformat": 4,
 "nbformat_minor": 5
}
