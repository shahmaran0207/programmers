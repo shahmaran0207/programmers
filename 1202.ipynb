{
 "cells": [
  {
   "cell_type": "markdown",
   "id": "e306d4af",
   "metadata": {},
   "source": [
    "로또 6/45(이하 '로또'로 표기)는 1부터 45까지의 숫자 중 6개를 찍어서 맞히는 대표적인 복권입니다. 아래는 로또의 순위를 정하는 방식입니다. 1\n",
    "\n",
    "순위\t당첨 내용\n",
    "1\t6개 번호가 모두 일치\n",
    "2\t5개 번호가 일치\n",
    "3\t4개 번호가 일치\n",
    "4\t3개 번호가 일치\n",
    "5\t2개 번호가 일치\n",
    "6(낙첨)\t그 외\n",
    "로또를 구매한 민우는 당첨 번호 발표일을 학수고대하고 있었습니다. 하지만, 민우의 동생이 로또에 낙서를 하여, 일부 번호를 알아볼 수 없게 되었습니다. 당첨 번호 발표 후, 민우는 자신이 구매했던 로또로 당첨이 가능했던 최고 순위와 최저 순위를 알아보고 싶어 졌습니다.\n",
    "알아볼 수 없는 번호를 0으로 표기하기로 하고, 민우가 구매한 로또 번호 6개가 44, 1, 0, 0, 31 25라고 가정해보겠습니다. 당첨 번호 6개가 31, 10, 45, 1, 6, 19라면, 당첨 가능한 최고 순위와 최저 순위의 한 예는 아래와 같습니다.\n",
    "\n",
    "당첨 번호\t31\t10\t45\t1\t6\t19\t결과\n",
    "최고 순위 번호\t31\t0→10\t44\t1\t0→6\t25\t4개 번호 일치, 3등\n",
    "최저 순위 번호\t31\t0→11\t44\t1\t0→7\t25\t2개 번호 일치, 5등\n",
    "순서와 상관없이, 구매한 로또에 당첨 번호와 일치하는 번호가 있으면 맞힌 걸로 인정됩니다.\n",
    "알아볼 수 없는 두 개의 번호를 각각 10, 6이라고 가정하면 3등에 당첨될 수 있습니다.\n",
    "3등을 만드는 다른 방법들도 존재합니다. 하지만, 2등 이상으로 만드는 것은 불가능합니다.\n",
    "알아볼 수 없는 두 개의 번호를 각각 11, 7이라고 가정하면 5등에 당첨될 수 있습니다.\n",
    "5등을 만드는 다른 방법들도 존재합니다. 하지만, 6등(낙첨)으로 만드는 것은 불가능합니다.\n",
    "민우가 구매한 로또 번호를 담은 배열 lottos, 당첨 번호를 담은 배열 win_nums가 매개변수로 주어집니다. 이때, 당첨 가능한 최고 순위와 최저 순위를 차례대로 배열에 담아서 return 하도록 solution 함수를 완성해주세요.\n",
    "\n",
    "제한사항\n",
    "lottos는 길이 6인 정수 배열입니다.\n",
    "lottos의 모든 원소는 0 이상 45 이하인 정수입니다.\n",
    "0은 알아볼 수 없는 숫자를 의미합니다.\n",
    "0을 제외한 다른 숫자들은 lottos에 2개 이상 담겨있지 않습니다.\n",
    "lottos의 원소들은 정렬되어 있지 않을 수도 있습니다.\n",
    "win_nums은 길이 6인 정수 배열입니다.\n",
    "win_nums의 모든 원소는 1 이상 45 이하인 정수입니다.\n",
    "win_nums에는 같은 숫자가 2개 이상 담겨있지 않습니다.\n",
    "win_nums의 원소들은 정렬되어 있지 않을 수도 있습니다.\n"
   ]
  },
  {
   "cell_type": "code",
   "execution_count": 37,
   "id": "265862ba",
   "metadata": {},
   "outputs": [],
   "source": [
    "def solution(lottos, win_nums):\n",
    "    answer = []\n",
    "    count=0\n",
    "    i=0\n",
    "    first=0\n",
    "    lose = 0\n",
    "    zero=0\n",
    "    \n",
    "    for i in range(len(lottos)):\n",
    "        if(lottos[i]==0): zero+=1\n",
    "    \n",
    "    for i in range(len(win_nums)):\n",
    "        for k in range(len(lottos)):\n",
    "            if(lottos[k]==win_nums[i]): count+=1\n",
    "    \n",
    "    \n",
    "    if(count+zero==6): first=1\n",
    "    if(count+zero==5): first=2\n",
    "    if(count+zero==4): first=3\n",
    "    if(count+zero==3): first=4\n",
    "    if(count+zero==2): first=5\n",
    "            \n",
    "    if(count==6): lose=1\n",
    "    if(count==5): lose=2\n",
    "    if(count==4): lose=3\n",
    "    if(count==3): lose=4\n",
    "    if(count==2): lose=5\n",
    "        \n",
    "    if first not in [1, 2, 3, 4, 5]: \n",
    "        first = 6\n",
    "\n",
    "    if lose not in [1, 2, 3, 4, 5]: \n",
    "        lose = 6\n",
    "\n",
    "    answer.append(first)\n",
    "    answer.append(lose)\n",
    "    return answer"
   ]
  },
  {
   "cell_type": "code",
   "execution_count": 38,
   "id": "ed785e7a",
   "metadata": {},
   "outputs": [
    {
     "data": {
      "text/plain": [
       "[3, 5]"
      ]
     },
     "execution_count": 38,
     "metadata": {},
     "output_type": "execute_result"
    }
   ],
   "source": [
    "solution([44, 1, 0, 0, 31, 25],[31, 10, 45, 1, 6, 19])"
   ]
  },
  {
   "cell_type": "markdown",
   "id": "4b7a35f6",
   "metadata": {},
   "source": [
    "각 칸마다 색이 칠해진 2차원 격자 보드판이 있습니다. 그중 한 칸을 골랐을 때, 위, 아래, 왼쪽, 오른쪽 칸 중 같은 색깔로 칠해진 칸의 개수를 구하려고 합니다.\n",
    "\n",
    "보드의 각 칸에 칠해진 색깔 이름이 담긴 이차원 문자열 리스트 board와 고른 칸의 위치를 나타내는 두 정수 h, w가 주어질 때 board[h][w]와 이웃한 칸들 중 같은 색으로 칠해져 있는 칸의 개수를 return 하도록 solution 함수를 완성해 주세요.\n",
    "\n",
    "이웃한 칸들 중 몇 개의 칸이 같은 색으로 색칠되어 있는지 확인하는 과정은 다음과 같습니다."
   ]
  },
  {
   "cell_type": "code",
   "execution_count": 59,
   "id": "f1993a96",
   "metadata": {},
   "outputs": [],
   "source": [
    "def solution(board, h, w):\n",
    "    answer = 0\n",
    "    first = board[h][w]\n",
    "    \n",
    "    if h + 1 < len(board) and board[h + 1][w] == first: \n",
    "        answer += 1\n",
    "    if h - 1 >= 0 and board[h - 1][w] == first: \n",
    "        answer += 1\n",
    "    if w + 1 < len(board[0]) and board[h][w + 1] == first: \n",
    "        answer += 1\n",
    "    if w - 1 >= 0 and board[h][w - 1] == first: \n",
    "        answer += 1\n",
    "\n",
    "    return answer\n"
   ]
  },
  {
   "cell_type": "code",
   "execution_count": 60,
   "id": "cd4765d8",
   "metadata": {},
   "outputs": [
    {
     "data": {
      "text/plain": [
       "2"
      ]
     },
     "execution_count": 60,
     "metadata": {},
     "output_type": "execute_result"
    }
   ],
   "source": [
    "solution([[\"blue\", \"red\", \"orange\", \"red\"],\n",
    "          [\"red\", \"red\", \"blue\", \"orange\"], \n",
    "          [\"blue\", \"orange\", \"red\", \"red\"],\n",
    "          [\"orange\", \"orange\", \"red\", \"blue\"]], 1,1)"
   ]
  },
  {
   "cell_type": "code",
   "execution_count": null,
   "id": "202e0493",
   "metadata": {},
   "outputs": [],
   "source": []
  }
 ],
 "metadata": {
  "kernelspec": {
   "display_name": "Python 3 (ipykernel)",
   "language": "python",
   "name": "python3"
  },
  "language_info": {
   "codemirror_mode": {
    "name": "ipython",
    "version": 3
   },
   "file_extension": ".py",
   "mimetype": "text/x-python",
   "name": "python",
   "nbconvert_exporter": "python",
   "pygments_lexer": "ipython3",
   "version": "3.9.12"
  }
 },
 "nbformat": 4,
 "nbformat_minor": 5
}
