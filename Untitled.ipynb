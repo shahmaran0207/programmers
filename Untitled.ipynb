{
 "cells": [
  {
   "cell_type": "code",
   "execution_count": 1,
   "id": "ed6c25c7-7c5a-40d1-9b85-1ab2ac540ab6",
   "metadata": {},
   "outputs": [],
   "source": [
    "# UTF-8 encoding when using korean\n",
    "def solution(money):\n",
    "\tcoin = [10, 50, 100, 500, 1000, 5000, 10000, 50000]\n",
    "\tcounter = 0\n",
    "\tidx = len(coin) - 1\n",
    "\twhile money:\n",
    "\t\tcounter += 1\n",
    "\t\tmoney %= coin[idx]\n",
    "\t\tidx -= 1\n",
    "\treturn counter-1"
   ]
  },
  {
   "cell_type": "code",
   "execution_count": 6,
   "id": "c67d9efb-df93-4aec-a9f7-692b546bb0b8",
   "metadata": {},
   "outputs": [],
   "source": [
    "# UTF-8 encoding when using korean\n",
    "def solution(money):\n",
    "\tcoin = [10, 50, 100, 500, 1000, 5000, 10000, 50000]\n",
    "\tcounter = 0\n",
    "\tidx = len(coin) - 1\n",
    "\twhile money:\n",
    "\t\tcounter += money//coin[idx]\n",
    "\t\tmoney %= coin[idx]\n",
    "\t\tidx -= 1\n",
    "\treturn counter-1"
   ]
  },
  {
   "cell_type": "code",
   "execution_count": null,
   "id": "cdb559e7-84e9-427a-89b9-3c970a6830f2",
   "metadata": {},
   "outputs": [],
   "source": []
  }
 ],
 "metadata": {
  "kernelspec": {
   "display_name": "Python 3 (ipykernel)",
   "language": "python",
   "name": "python3"
  },
  "language_info": {
   "codemirror_mode": {
    "name": "ipython",
    "version": 3
   },
   "file_extension": ".py",
   "mimetype": "text/x-python",
   "name": "python",
   "nbconvert_exporter": "python",
   "pygments_lexer": "ipython3",
   "version": "3.11.7"
  }
 },
 "nbformat": 4,
 "nbformat_minor": 5
}
