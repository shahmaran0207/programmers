{
 "cells": [
  {
   "cell_type": "code",
   "execution_count": 30,
   "id": "cd6f8b0f",
   "metadata": {},
   "outputs": [],
   "source": [
    "def solution(numbers):\n",
    "    answer = []\n",
    "    temp=[]\n",
    "    sum=0\n",
    "    \n",
    "    for i in range(len(numbers)-1):\n",
    "        for k in range(i+1, len(numbers)):\n",
    "            sum=numbers[i]+numbers[k]\n",
    "            temp.append(sum)\n",
    "            temp2=set(temp)\n",
    "            answer=list(temp2)\n",
    "            answer.sort()\n",
    "            \n",
    "    \n",
    "    \n",
    "    return answer"
   ]
  },
  {
   "cell_type": "code",
   "execution_count": 31,
   "id": "9280b0d0",
   "metadata": {},
   "outputs": [
    {
     "data": {
      "text/plain": [
       "[2, 5, 7, 9, 12]"
      ]
     },
     "execution_count": 31,
     "metadata": {},
     "output_type": "execute_result"
    }
   ],
   "source": [
    "solution([5,0,2,7])"
   ]
  },
  {
   "cell_type": "code",
   "execution_count": 32,
   "id": "42e38954",
   "metadata": {},
   "outputs": [
    {
     "data": {
      "text/plain": [
       "[2, 3, 4, 5, 6, 7]"
      ]
     },
     "execution_count": 32,
     "metadata": {},
     "output_type": "execute_result"
    }
   ],
   "source": [
    "solution([2,1,3,4,1])"
   ]
  },
  {
   "cell_type": "markdown",
   "id": "c44e5525",
   "metadata": {},
   "source": [
    "# list 중복제거\n",
    "## 1. 변수 생성하여 list를 set함수로 생성 -> 자연스럽게 중복이 제거되지만 set형태임\n",
    "## 2. 새로운 변수를 생성하여 생성한 set함수를 다시 list형으로 생성\n",
    "## 3. 중복이 제거된 list가 생성됨"
   ]
  },
  {
   "cell_type": "code",
   "execution_count": 44,
   "id": "0158bf43",
   "metadata": {},
   "outputs": [],
   "source": [
    "def solution(strings, n):\n",
    "    answer = []\n",
    "    \n",
    "    answer=sorted(strings,key=lambda x:x[n])\n",
    "    \n",
    "    \n",
    "    return answer"
   ]
  },
  {
   "cell_type": "code",
   "execution_count": 45,
   "id": "c4768bc9",
   "metadata": {},
   "outputs": [
    {
     "data": {
      "text/plain": [
       "['car', 'bed', 'sun']"
      ]
     },
     "execution_count": 45,
     "metadata": {},
     "output_type": "execute_result"
    }
   ],
   "source": [
    "solution([\"sun\", \"bed\", \"car\"], 1)"
   ]
  },
  {
   "cell_type": "code",
   "execution_count": 50,
   "id": "7220f4e6",
   "metadata": {},
   "outputs": [
    {
     "data": {
      "text/plain": [
       "['abcd', 'abce', 'cdx']"
      ]
     },
     "execution_count": 50,
     "metadata": {},
     "output_type": "execute_result"
    }
   ],
   "source": [
    "solution([\"abce\", \"abcd\", \"cdx\"],2)"
   ]
  },
  {
   "cell_type": "code",
   "execution_count": 49,
   "id": "c2fbea2c",
   "metadata": {},
   "outputs": [],
   "source": [
    "def solution(strings, n):\n",
    "    answer = []\n",
    "    \n",
    "    answer=sorted(strings,key = lambda x : (x[n], x.lower()))\n",
    "    \n",
    "    \n",
    "    return answer\n"
   ]
  },
  {
   "cell_type": "code",
   "execution_count": 54,
   "id": "bc86c00c",
   "metadata": {},
   "outputs": [],
   "source": [
    "def solution(a, b, n):\n",
    "    answer = 0\n",
    "    temp=0\n",
    "    \n",
    "    while n>=a:\n",
    "        n=n-a\n",
    "        n=n+b\n",
    "        answer+=b\n",
    "        \n",
    "    return answer"
   ]
  },
  {
   "cell_type": "code",
   "execution_count": 55,
   "id": "2a931fab",
   "metadata": {},
   "outputs": [
    {
     "data": {
      "text/plain": [
       "19"
      ]
     },
     "execution_count": 55,
     "metadata": {},
     "output_type": "execute_result"
    }
   ],
   "source": [
    "solution(2,1,20)"
   ]
  },
  {
   "cell_type": "code",
   "execution_count": 89,
   "id": "1d6d21e0",
   "metadata": {},
   "outputs": [],
   "source": [
    "def solution(k, score):\n",
    "\n",
    "    q = []\n",
    "\n",
    "    answer = []\n",
    "    for s in score:\n",
    "\n",
    "        q.append(s)\n",
    "        if (len(q) > k):\n",
    "            q.remove(min(q))\n",
    "        answer.append(min(q))\n",
    "\n",
    "    return answer\n"
   ]
  },
  {
   "cell_type": "code",
   "execution_count": 90,
   "id": "5be25fdd",
   "metadata": {},
   "outputs": [
    {
     "data": {
      "text/plain": [
       "[10, 10, 10, 20, 20, 100, 100]"
      ]
     },
     "execution_count": 90,
     "metadata": {},
     "output_type": "execute_result"
    }
   ],
   "source": [
    "solution(3,[10, 100, 20, 150, 1, 100, 200])"
   ]
  },
  {
   "cell_type": "code",
   "execution_count": null,
   "id": "a2be5de3",
   "metadata": {},
   "outputs": [],
   "source": [
    "def solution(k, score):\n",
    "    answer = []\n",
    "    temp=[]\n",
    "    te=0\n",
    "    \n",
    "    for i in range(k):\n",
    "        temp.append(score[0])\n",
    "        for j in range(1, len(temp)):\n",
    "            if temp[j]<score[k]:\n",
    "                te=temp[j]\n",
    "                temp[j]=score[k]\n",
    "                temp.append(te)\n",
    "            else:\n",
    "                temp.append(score[i])\n",
    "            answer.append(temp[-1])\n",
    "    \n",
    "    for i in range(k+1, len(score)):\n",
    "        for j in range(len(temp)):\n",
    "            if temp[j]<score[i]:\n",
    "                temp[j]=score[i]\n",
    "                answer.append(temp[-1])\n",
    "                break\n",
    "            else: answer.append(temp[-1])\n",
    "        \n",
    "        \n",
    "    \n",
    "    return answer"
   ]
  },
  {
   "cell_type": "code",
   "execution_count": 93,
   "id": "26243e33",
   "metadata": {},
   "outputs": [],
   "source": [
    "def solution(n):\n",
    "    answer = 0\n",
    "    a, b = 0,1\n",
    "    \n",
    "    for i in range(n) :\n",
    "        a,b = b, a+b\n",
    "    \n",
    "    answer = b % 1234567\n",
    "    return answer"
   ]
  },
  {
   "cell_type": "code",
   "execution_count": 94,
   "id": "7ca64dec",
   "metadata": {},
   "outputs": [
    {
     "data": {
      "text/plain": [
       "5"
      ]
     },
     "execution_count": 94,
     "metadata": {},
     "output_type": "execute_result"
    }
   ],
   "source": [
    "solution(4)"
   ]
  },
  {
   "cell_type": "code",
   "execution_count": null,
   "id": "78455da3",
   "metadata": {},
   "outputs": [],
   "source": []
  },
  {
   "cell_type": "code",
   "execution_count": null,
   "id": "c15d0c7b",
   "metadata": {},
   "outputs": [],
   "source": []
  }
 ],
 "metadata": {
  "kernelspec": {
   "display_name": "Python 3 (ipykernel)",
   "language": "python",
   "name": "python3"
  },
  "language_info": {
   "codemirror_mode": {
    "name": "ipython",
    "version": 3
   },
   "file_extension": ".py",
   "mimetype": "text/x-python",
   "name": "python",
   "nbconvert_exporter": "python",
   "pygments_lexer": "ipython3",
   "version": "3.9.12"
  }
 },
 "nbformat": 4,
 "nbformat_minor": 5
}
