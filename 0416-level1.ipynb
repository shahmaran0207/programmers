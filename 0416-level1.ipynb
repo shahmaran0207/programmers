{
 "cells": [
  {
   "cell_type": "markdown",
   "id": "1368aeec-0d3b-42b1-b1ca-6284c6210b45",
   "metadata": {},
   "source": [
    "## 네오와 프로도가 숫자놀이를 하고 있습니다. 네오가 프로도에게 숫자를 건넬 때 일부 자릿수를 영단어로 바꾼 카드를 건네주면 프로도는 원래 숫자를 찾는 게임입니다.\n",
    "\n",
    "다음은 숫자의 일부 자릿수를 영단어로 바꾸는 예시입니다.\n",
    "\n",
    "1478 → \"one4seveneight\"\n",
    "234567 → \"23four5six7\"\n",
    "10203 → \"1zerotwozero3\"\n",
    "이렇게 숫자의 일부 자릿수가 영단어로 바뀌어졌거나, 혹은 바뀌지 않고 그대로인 문자열 s가 매개변수로 주어집니다. s가 의미하는 원래 숫자를 return 하도록 solution 함수를 완성해주세요."
   ]
  },
  {
   "cell_type": "code",
   "execution_count": 35,
   "id": "b1e10ef0-85fe-4778-9c6f-a9a19bd923bb",
   "metadata": {},
   "outputs": [],
   "source": [
    "def solution(s):\n",
    "    answer = ''\n",
    "    num='0123456789'\n",
    "\n",
    "    for i in range(len(s)):\n",
    "        if s[i] in num:\n",
    "            s.replace(s[i],'')\n",
    "            answer+=s[i]\n",
    "        if s[i:i+3] == 'one':\n",
    "            s.replace(s[i:i+3],'')\n",
    "            answer+='1'\n",
    "        if s[i:i+3] == 'two':\n",
    "            s.replace(s[i:i+3],'')\n",
    "            answer+='2'\n",
    "        if s[i:i+3] == 'six':\n",
    "            s.replace(s[i:i+3],'')\n",
    "            answer+='6'\n",
    "        if s[i:i+4] == 'zero':\n",
    "            s.replace(s[i:i+4],'')\n",
    "            answer+='0'\n",
    "        if s[i:i+4] == 'four':\n",
    "            s.replace(s[i:i+4],'')\n",
    "            answer+='4'\n",
    "        if s[i:i+4] == 'five':\n",
    "            s.replace(s[i:i+4],'')\n",
    "            answer+='5'\n",
    "        if s[i:i+4] == 'nine':\n",
    "            s.replace(s[i:i+4],'')\n",
    "            answer+='9'\n",
    "        if s[i:i+5] == 'three':\n",
    "            s.replace(s[i:i+5],'')\n",
    "            answer+='3'\n",
    "        if s[i:i+5] == 'seven':\n",
    "            s.replace(s[i:i+5],'')\n",
    "            answer+='7'        \n",
    "        if s[i:i+5] == 'eight':\n",
    "            s.replace(s[i:i+5],'')\n",
    "            answer+='8'    \n",
    "    answer=int(answer)\n",
    "            \n",
    "    return answer"
   ]
  },
  {
   "cell_type": "code",
   "execution_count": 36,
   "id": "93039061-9590-4487-8aef-4091a9e51d2a",
   "metadata": {},
   "outputs": [
    {
     "data": {
      "text/plain": [
       "1478"
      ]
     },
     "execution_count": 36,
     "metadata": {},
     "output_type": "execute_result"
    }
   ],
   "source": [
    "solution(\"one4seveneight\")"
   ]
  },
  {
   "cell_type": "markdown",
   "id": "9ed04653-28e6-4b4f-90e3-cb5237174e79",
   "metadata": {},
   "source": [
    "## oen, two, six\n",
    "## zero, four, five, nine\n",
    "## three, seven, eight"
   ]
  },
  {
   "cell_type": "code",
   "execution_count": 3,
   "id": "dce4db07-b53d-4596-ad74-8724868adfe4",
   "metadata": {},
   "outputs": [
    {
     "data": {
      "text/plain": [
       "int"
      ]
     },
     "execution_count": 3,
     "metadata": {},
     "output_type": "execute_result"
    }
   ],
   "source": [
    "num='0123456789'"
   ]
  },
  {
   "cell_type": "markdown",
   "id": "492548c0-bcd2-4e9f-b05d-569be9aaa361",
   "metadata": {},
   "source": [
    "문자열 s가 주어졌을 때, s의 각 위치마다 자신보다 앞에 나왔으면서, 자신과 가장 가까운 곳에 있는 같은 글자가 어디 있는지 알고 싶습니다.\n",
    "예를 들어, s=\"banana\"라고 할 때,  각 글자들을 왼쪽부터 오른쪽으로 읽어 나가면서 다음과 같이 진행할 수 있습니다.\n",
    "\n",
    "b는 처음 나왔기 때문에 자신의 앞에 같은 글자가 없습니다. 이는 -1로 표현합니다.\n",
    "a는 처음 나왔기 때문에 자신의 앞에 같은 글자가 없습니다. 이는 -1로 표현합니다.\n",
    "n은 처음 나왔기 때문에 자신의 앞에 같은 글자가 없습니다. 이는 -1로 표현합니다.\n",
    "a는 자신보다 두 칸 앞에 a가 있습니다. 이는 2로 표현합니다.\n",
    "n도 자신보다 두 칸 앞에 n이 있습니다. 이는 2로 표현합니다.\n",
    "a는 자신보다 두 칸, 네 칸 앞에 a가 있습니다. 이 중 가까운 것은 두 칸 앞이고, 이는 2로 표현합니다.\n",
    "따라서 최종 결과물은 [-1, -1, -1, 2, 2, 2]가 됩니다.\n",
    "\n",
    "문자열 s이 주어질 때, 위와 같이 정의된 연산을 수행하는 함수 solution을 완성해주세요."
   ]
  },
  {
   "cell_type": "code",
   "execution_count": 88,
   "id": "a4623a79-04d5-45bd-8b3c-659acea54346",
   "metadata": {},
   "outputs": [],
   "source": [
    "def solution(s):\n",
    "    answer = []\n",
    "    \n",
    "    s=list(s)\n",
    "    s.reverse()\n",
    "\n",
    "    for i in range(len(s)):\n",
    "        tmp=count=0\n",
    "        for k in range(i+1, len(s)):\n",
    "            count+=1\n",
    "            if s[i] == s[k]:\n",
    "                tmp+=1\n",
    "                answer.append(count)\n",
    "                break\n",
    "            else:\n",
    "                continue\n",
    "        \n",
    "        if tmp==0:\n",
    "            answer.append(-1)\n",
    "    answer.reverse()\n",
    "    return answer"
   ]
  },
  {
   "cell_type": "code",
   "execution_count": 89,
   "id": "18bb56af-6321-4569-a742-3dea9215729c",
   "metadata": {},
   "outputs": [
    {
     "data": {
      "text/plain": [
       "[-1, -1, -1, 2, 2, 2]"
      ]
     },
     "execution_count": 89,
     "metadata": {},
     "output_type": "execute_result"
    }
   ],
   "source": [
    "solution(\"banana\")"
   ]
  },
  {
   "cell_type": "code",
   "execution_count": 90,
   "id": "a2e98a70-5c11-44c3-bf3a-24285d48cf21",
   "metadata": {},
   "outputs": [
    {
     "name": "stdout",
     "output_type": "stream",
     "text": [
      "['a', 'n', 'a', 'n', 'a', 'b']\n"
     ]
    }
   ],
   "source": [
    "s=\"banana\"\n",
    "s=list(s)\n",
    "s.reverse()\n",
    "print(s)"
   ]
  },
  {
   "cell_type": "code",
   "execution_count": 81,
   "id": "be9f8739-92cd-49ea-a306-5cd704016095",
   "metadata": {},
   "outputs": [
    {
     "data": {
      "text/plain": [
       "219"
      ]
     },
     "execution_count": 81,
     "metadata": {},
     "output_type": "execute_result"
    }
   ],
   "source": [
    "222-1-1-1"
   ]
  },
  {
   "cell_type": "code",
   "execution_count": null,
   "id": "3ab781a1-3fbf-4572-8aa0-9cf729f5895b",
   "metadata": {},
   "outputs": [],
   "source": []
  }
 ],
 "metadata": {
  "kernelspec": {
   "display_name": "Python 3 (ipykernel)",
   "language": "python",
   "name": "python3"
  },
  "language_info": {
   "codemirror_mode": {
    "name": "ipython",
    "version": 3
   },
   "file_extension": ".py",
   "mimetype": "text/x-python",
   "name": "python",
   "nbconvert_exporter": "python",
   "pygments_lexer": "ipython3",
   "version": "3.11.7"
  }
 },
 "nbformat": 4,
 "nbformat_minor": 5
}
