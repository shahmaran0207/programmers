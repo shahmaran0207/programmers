{
 "cells": [
  {
   "cell_type": "code",
   "execution_count": 67,
   "id": "96ff82ef-fc7d-4df3-aac2-d3ace93b0c8a",
   "metadata": {},
   "outputs": [],
   "source": [
    "def solution(num):\n",
    "    answer = 0\n",
    "    lin=''\n",
    "    answer=num+1\n",
    "    lin=str(answer)\n",
    "    \n",
    "    for i in range(len(lin)):\n",
    "        if lin[i]=='0':\n",
    "            lin=lin.replace(lin[i],'1')\n",
    "            \n",
    "    return lin"
   ]
  },
  {
   "cell_type": "code",
   "execution_count": 68,
   "id": "f048e2d6-d8ff-4875-819c-6df57ac09b22",
   "metadata": {},
   "outputs": [
    {
     "data": {
      "text/plain": [
       "'9951111'"
      ]
     },
     "execution_count": 68,
     "metadata": {},
     "output_type": "execute_result"
    }
   ],
   "source": [
    "solution(9949999)"
   ]
  },
  {
   "cell_type": "code",
   "execution_count": 57,
   "id": "cb6b3be8-a029-4787-8001-0c4d224a19dc",
   "metadata": {},
   "outputs": [
    {
     "data": {
      "text/plain": [
       "'hi world'"
      ]
     },
     "execution_count": 57,
     "metadata": {},
     "output_type": "execute_result"
    }
   ],
   "source": [
    ">>> a = 'hello world'\n",
    ">>> a.replace('hello','hi')"
   ]
  },
  {
   "cell_type": "code",
   "execution_count": null,
   "id": "009a5e15-997f-4fad-982a-6a8def014d54",
   "metadata": {},
   "outputs": [],
   "source": []
  }
 ],
 "metadata": {
  "kernelspec": {
   "display_name": "Python 3 (ipykernel)",
   "language": "python",
   "name": "python3"
  },
  "language_info": {
   "codemirror_mode": {
    "name": "ipython",
    "version": 3
   },
   "file_extension": ".py",
   "mimetype": "text/x-python",
   "name": "python",
   "nbconvert_exporter": "python",
   "pygments_lexer": "ipython3",
   "version": "3.11.7"
  }
 },
 "nbformat": 4,
 "nbformat_minor": 5
}
