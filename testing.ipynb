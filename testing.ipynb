{
 "cells": [
  {
   "cell_type": "code",
   "execution_count": 4,
   "id": "008223d3-1b75-46ce-ad87-3cf5b2e6108f",
   "metadata": {},
   "outputs": [],
   "source": [
    "# -*- coding: utf-8 -*-\n",
    "# UTF-8 encoding when using korean\n",
    "\n",
    "def solution(revenue, k) :\n",
    "\tanswer = 0\n",
    "\trsum = sum(revenue[0:k])\n",
    "\tanswer = rsum\n",
    "\tfor i in range(len(revenue)) :\n",
    "\t\trsum = rsum - revenue[i - k] + revenue[i]\n",
    "\t\tif answer < rsum :\n",
    "\t\t\tanswer = rsum\n",
    "\treturn answer"
   ]
  },
  {
   "cell_type": "code",
   "execution_count": 6,
   "id": "529c5338-3ea3-47be-ac6d-857407cdb3bd",
   "metadata": {},
   "outputs": [
    {
     "data": {
      "text/plain": [
       "14"
      ]
     },
     "execution_count": 6,
     "metadata": {},
     "output_type": "execute_result"
    }
   ],
   "source": [
    "solution([1, 1, 9, 3, 7, 6, 5, 10],4)"
   ]
  },
  {
   "cell_type": "code",
   "execution_count": null,
   "id": "6f1fb123-9c34-4b46-9851-2be07034ec75",
   "metadata": {},
   "outputs": [],
   "source": []
  },
  {
   "cell_type": "code",
   "execution_count": null,
   "id": "1048e6b7-28c7-4c31-8563-ab985bb1527b",
   "metadata": {},
   "outputs": [],
   "source": []
  }
 ],
 "metadata": {
  "kernelspec": {
   "display_name": "Python 3 (ipykernel)",
   "language": "python",
   "name": "python3"
  },
  "language_info": {
   "codemirror_mode": {
    "name": "ipython",
    "version": 3
   },
   "file_extension": ".py",
   "mimetype": "text/x-python",
   "name": "python",
   "nbconvert_exporter": "python",
   "pygments_lexer": "ipython3",
   "version": "3.11.7"
  }
 },
 "nbformat": 4,
 "nbformat_minor": 5
}
