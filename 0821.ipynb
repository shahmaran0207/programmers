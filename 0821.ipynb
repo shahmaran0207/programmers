{
 "cells": [
  {
   "cell_type": "code",
   "execution_count": 57,
   "id": "3772029d",
   "metadata": {},
   "outputs": [],
   "source": [
    "def solution(elements):\n",
    "    ll = len(elements)\n",
    "    res = set()\n",
    "\n",
    "    for i in range(ll):\n",
    "        ssum = elements[i]\n",
    "        res.add(ssum)\n",
    "        for j in range(i+1, i+ll):\n",
    "            ssum += elements[j%ll]\n",
    "            res.add(ssum)\n",
    "    return len(res)\n",
    "\n"
   ]
  },
  {
   "cell_type": "code",
   "execution_count": 58,
   "id": "53699793",
   "metadata": {},
   "outputs": [
    {
     "data": {
      "text/plain": [
       "18"
      ]
     },
     "execution_count": 58,
     "metadata": {},
     "output_type": "execute_result"
    }
   ],
   "source": [
    "elements=[7,9,1,1,4]\n",
    "solution(elements)"
   ]
  },
  {
   "cell_type": "code",
   "execution_count": 44,
   "id": "c2e7174b",
   "metadata": {},
   "outputs": [
    {
     "name": "stdout",
     "output_type": "stream",
     "text": [
      "None\n"
     ]
    }
   ],
   "source": [
    "\n",
    "se=se.sort()\n",
    "\n",
    "print(se)"
   ]
  },
  {
   "cell_type": "code",
   "execution_count": 50,
   "id": "bfe10207",
   "metadata": {},
   "outputs": [
    {
     "name": "stdout",
     "output_type": "stream",
     "text": [
      "[1, 1, 4, 7, 9]\n"
     ]
    }
   ],
   "source": [
    "se=[7,9,1,1,4]\n",
    "se\n",
    "se.sort()\n",
    "print(se)"
   ]
  },
  {
   "cell_type": "code",
   "execution_count": 51,
   "id": "4e1b7a74",
   "metadata": {},
   "outputs": [],
   "source": [
    "se.append(3)"
   ]
  },
  {
   "cell_type": "code",
   "execution_count": 56,
   "id": "34a610a8",
   "metadata": {},
   "outputs": [
    {
     "name": "stdout",
     "output_type": "stream",
     "text": [
      "[1, 1, 4, 7, 9, 3]\n",
      "5\n"
     ]
    }
   ],
   "source": [
    "print(se)\n",
    "r=se[1:3]\n",
    "b=sum(r)\n",
    "print(b)"
   ]
  },
  {
   "cell_type": "code",
   "execution_count": null,
   "id": "0ae3aab8",
   "metadata": {},
   "outputs": [],
   "source": []
  },
  {
   "cell_type": "code",
   "execution_count": null,
   "id": "068552ff",
   "metadata": {},
   "outputs": [],
   "source": []
  }
 ],
 "metadata": {
  "kernelspec": {
   "display_name": "Python 3 (ipykernel)",
   "language": "python",
   "name": "python3"
  },
  "language_info": {
   "codemirror_mode": {
    "name": "ipython",
    "version": 3
   },
   "file_extension": ".py",
   "mimetype": "text/x-python",
   "name": "python",
   "nbconvert_exporter": "python",
   "pygments_lexer": "ipython3",
   "version": "3.9.12"
  }
 },
 "nbformat": 4,
 "nbformat_minor": 5
}
