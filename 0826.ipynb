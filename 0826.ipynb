{
 "cells": [
  {
   "cell_type": "code",
   "execution_count": 39,
   "id": "aba8c5d7",
   "metadata": {},
   "outputs": [],
   "source": [
    "def solution(nums):\n",
    "    answer = 0\n",
    "    real=[]\n",
    "    \n",
    "    for i in range(len(nums)-2):\n",
    "        temp=0\n",
    "        count=0\n",
    "        \n",
    "        for k in range(i+1, len(nums)-1):\n",
    "            for q in range(k+1, len(nums)):\n",
    "                temp+=nums[q]\n",
    "                real.append(temp)\n",
    "                \n",
    "        for g in range(1, temp+1):\n",
    "            if temp%g==0: count+=1\n",
    "        \n",
    "        if count==2: answer+=1\n",
    "    return real"
   ]
  },
  {
   "cell_type": "code",
   "execution_count": 43,
   "id": "5f49811b",
   "metadata": {},
   "outputs": [
    {
     "data": {
      "text/plain": [
       "[2, 5, 7, 10, 3]"
      ]
     },
     "execution_count": 43,
     "metadata": {},
     "output_type": "execute_result"
    }
   ],
   "source": [
    "solution([1,2,3,4])"
   ]
  },
  {
   "cell_type": "code",
   "execution_count": 44,
   "id": "311ff783",
   "metadata": {},
   "outputs": [
    {
     "data": {
      "text/plain": [
       "[2, 5, 9, 11, 14, 18, 20, 23, 27, 3, 7, 10, 14, 4]"
      ]
     },
     "execution_count": 44,
     "metadata": {},
     "output_type": "execute_result"
    }
   ],
   "source": [
    "solution([1,2,7,6,4])"
   ]
  },
  {
   "cell_type": "code",
   "execution_count": 103,
   "id": "3fbeff1f",
   "metadata": {},
   "outputs": [],
   "source": [
    "def solution(nums):\n",
    "    answer = 0\n",
    "    temp=0\n",
    "    temp2=[]\n",
    "    \n",
    "    for i in range(len(nums)-2):\n",
    "        for k in range(i+1, len(nums)-1):\n",
    "            for g in range(k+1, len(nums)):\n",
    "                temp=(nums[i]+nums[k]+nums[g])\n",
    "                temp2.append(temp)\n",
    "    \n",
    "    temp2=set(temp2)\n",
    "    temp2=list(temp2)\n",
    "    \n",
    "    for i in range(len(temp2)):\n",
    "        count=0\n",
    "        for g in range(1, temp2[i]+1):\n",
    "            if temp2[i]%g==0: count+=1\n",
    "        if count==2: answer+=1\n",
    "    \n",
    "    return answer"
   ]
  },
  {
   "cell_type": "code",
   "execution_count": 104,
   "id": "1e1199f3",
   "metadata": {},
   "outputs": [
    {
     "data": {
      "text/plain": [
       "1"
      ]
     },
     "execution_count": 104,
     "metadata": {},
     "output_type": "execute_result"
    }
   ],
   "source": [
    "solution([1,2,3,4])"
   ]
  },
  {
   "cell_type": "code",
   "execution_count": 105,
   "id": "8a73706a",
   "metadata": {},
   "outputs": [
    {
     "data": {
      "text/plain": [
       "4"
      ]
     },
     "execution_count": 105,
     "metadata": {},
     "output_type": "execute_result"
    }
   ],
   "source": [
    "solution([1,2,7,6,4])"
   ]
  },
  {
   "cell_type": "code",
   "execution_count": 97,
   "id": "4c03d681",
   "metadata": {},
   "outputs": [],
   "source": [
    "s=[1,2,2,3]\n",
    "t=set(s)"
   ]
  },
  {
   "cell_type": "code",
   "execution_count": 98,
   "id": "b2c82724",
   "metadata": {},
   "outputs": [
    {
     "data": {
      "text/plain": [
       "{1, 2, 3}"
      ]
     },
     "execution_count": 98,
     "metadata": {},
     "output_type": "execute_result"
    }
   ],
   "source": [
    "t"
   ]
  },
  {
   "cell_type": "code",
   "execution_count": 99,
   "id": "7e6714ef",
   "metadata": {},
   "outputs": [
    {
     "data": {
      "text/plain": [
       "[1, 2, 3]"
      ]
     },
     "execution_count": 99,
     "metadata": {},
     "output_type": "execute_result"
    }
   ],
   "source": [
    "list(t)"
   ]
  },
  {
   "cell_type": "code",
   "execution_count": 106,
   "id": "5af9300a",
   "metadata": {},
   "outputs": [],
   "source": [
    "def solution(nums):\n",
    "    from itertools import combinations as cb\n",
    "    answer = 0\n",
    "    for a in cb(nums, 3):\n",
    "        cand = sum(a)\n",
    "        for j in range(2, cand):\n",
    "            if cand%j==0:\n",
    "                break\n",
    "        else:\n",
    "            answer += 1\n",
    "    return answer\n",
    "\n"
   ]
  },
  {
   "cell_type": "markdown",
   "id": "b705d174",
   "metadata": {},
   "source": [
    "## combination(list,n): list 중 3개의 모든 조합을 구하는 함수"
   ]
  },
  {
   "cell_type": "markdown",
   "id": "f94de129",
   "metadata": {},
   "source": [
    "## 약수의 대칭성\n",
    "### n의 약수들은 항상 대칭적으로 짝을 이룸 -> 소수인지 판별할 때 2부터 제곱근까지 나누어지는 것이 있는지만 확인하면 됨 -> 있으면 소수 아님"
   ]
  },
  {
   "cell_type": "code",
   "execution_count": 165,
   "id": "630ecb94",
   "metadata": {},
   "outputs": [],
   "source": [
    "def solution(k, m, score):\n",
    "    answer = 0\n",
    "    score.sort(reverse=False)\n",
    "    \n",
    "    while len(score)>=m:\n",
    "        \n",
    "        \n",
    "        temp=[]\n",
    "        \n",
    "        for i in range(m):\n",
    "            ma=score[-1]\n",
    "            temp.append(ma)\n",
    "            del score[-1]\n",
    "        \n",
    "        temp.sort(reverse=False)\n",
    "        answer+=(temp[0]*m)\n",
    "        \n",
    "    return answer"
   ]
  },
  {
   "cell_type": "code",
   "execution_count": 166,
   "id": "56233886",
   "metadata": {},
   "outputs": [
    {
     "data": {
      "text/plain": [
       "8"
      ]
     },
     "execution_count": 166,
     "metadata": {},
     "output_type": "execute_result"
    }
   ],
   "source": [
    "solution(3,4,\t[1, 2, 3, 1, 2, 3, 1])"
   ]
  },
  {
   "cell_type": "code",
   "execution_count": 164,
   "id": "899dde40",
   "metadata": {},
   "outputs": [
    {
     "data": {
      "text/plain": [
       "33"
      ]
     },
     "execution_count": 164,
     "metadata": {},
     "output_type": "execute_result"
    }
   ],
   "source": [
    "solution(4,3,[4, 1, 2, 2, 4, 4, 4, 4, 1, 2, 4, 2])"
   ]
  },
  {
   "cell_type": "code",
   "execution_count": 149,
   "id": "fe21585b",
   "metadata": {},
   "outputs": [],
   "source": [
    "li=[1,2,3,5,0]"
   ]
  },
  {
   "cell_type": "code",
   "execution_count": 150,
   "id": "1644dc3e",
   "metadata": {},
   "outputs": [
    {
     "data": {
      "text/plain": [
       "[5, 3, 2, 1, 0]"
      ]
     },
     "execution_count": 150,
     "metadata": {},
     "output_type": "execute_result"
    }
   ],
   "source": [
    "li.sort(reverse=True)\n",
    "li"
   ]
  },
  {
   "cell_type": "code",
   "execution_count": 224,
   "id": "627aee71",
   "metadata": {},
   "outputs": [],
   "source": [
    "def solution(n, m, section):\n",
    "    answer = 0\n",
    "    \n",
    "    i=0\n",
    "    while len(section)>i:\n",
    "        st=section[0]\n",
    "        en=st+m\n",
    "        \n",
    "        while i<len(section) and section[i]<=en:\n",
    "            i+=1\n",
    "        answer+=1\n",
    "        \n",
    "    \n",
    "    return answer"
   ]
  },
  {
   "cell_type": "code",
   "execution_count": 225,
   "id": "f1e4f16f",
   "metadata": {},
   "outputs": [
    {
     "data": {
      "text/plain": [
       "1"
      ]
     },
     "execution_count": 225,
     "metadata": {},
     "output_type": "execute_result"
    }
   ],
   "source": [
    "solution(8,4,[2, 3, 6])"
   ]
  },
  {
   "cell_type": "code",
   "execution_count": 226,
   "id": "2b71217f",
   "metadata": {},
   "outputs": [
    {
     "data": {
      "text/plain": [
       "1"
      ]
     },
     "execution_count": 226,
     "metadata": {},
     "output_type": "execute_result"
    }
   ],
   "source": [
    "solution(5,4,\t[1, 3])"
   ]
  },
  {
   "cell_type": "code",
   "execution_count": null,
   "id": "16dd6531",
   "metadata": {},
   "outputs": [],
   "source": [
    "solution(4,1,[1, 2, 3, 4])"
   ]
  },
  {
   "cell_type": "code",
   "execution_count": null,
   "id": "1d318cd0",
   "metadata": {},
   "outputs": [],
   "source": [
    "def solution(n, m, section):\n",
    "    answer = 0\n",
    "    i = 0\n",
    "    while i < len(section):\n",
    "        st = section[i]  # 현재 구간의 시작점\n",
    "        en = st + m  # 현재 구간의 끝점\n",
    "        # 현재 구간에 포함되는 모든 구간을 포함하기 위해 i를 이동\n",
    "        while i < len(section) and section[i] <= en:\n",
    "            i += 1\n",
    "        answer += 1  # 하나의 구간이 끝났으므로 카운트 증가\n",
    "    \n",
    "    return answer\n"
   ]
  },
  {
   "cell_type": "code",
   "execution_count": null,
   "id": "b5321b12",
   "metadata": {},
   "outputs": [],
   "source": []
  }
 ],
 "metadata": {
  "kernelspec": {
   "display_name": "Python 3 (ipykernel)",
   "language": "python",
   "name": "python3"
  },
  "language_info": {
   "codemirror_mode": {
    "name": "ipython",
    "version": 3
   },
   "file_extension": ".py",
   "mimetype": "text/x-python",
   "name": "python",
   "nbconvert_exporter": "python",
   "pygments_lexer": "ipython3",
   "version": "3.9.12"
  }
 },
 "nbformat": 4,
 "nbformat_minor": 5
}
