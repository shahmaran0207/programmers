{
 "cells": [
  {
   "cell_type": "markdown",
   "id": "b0bf37fa",
   "metadata": {},
   "source": [
    "배열 arr가 주어집니다. 배열 arr의 각 원소는 숫자 0부터 9까지로 이루어져 있습니다. 이때, 배열 arr에서 연속적으로 나타나는 숫자는 하나만 남기고 전부 제거하려고 합니다. 단, 제거된 후 남은 수들을 반환할 때는 배열 arr의 원소들의 순서를 유지해야 합니다. 예를 들면,\n",
    "\n",
    "arr = [1, 1, 3, 3, 0, 1, 1] 이면 [1, 3, 0, 1] 을 return 합니다.\n",
    "arr = [4, 4, 4, 3, 3] 이면 [4, 3] 을 return 합니다.\n",
    "배열 arr에서 연속적으로 나타나는 숫자는 제거하고 남은 수들을 return 하는 solution 함수를 완성해 주세요.\n",
    "\n",
    "제한사항\n",
    "배열 arr의 크기 : 1,000,000 이하의 자연수\n",
    "배열 arr의 원소의 크기 : 0보다 크거나 같고 9보다 작거나 같은 정수"
   ]
  },
  {
   "cell_type": "code",
   "execution_count": 1,
   "id": "d12503ed",
   "metadata": {},
   "outputs": [],
   "source": [
    "def solution(arr):\n",
    "    a = []\n",
    "    for i in arr:\n",
    "        if a[-1:] == [i]: continue\n",
    "        a.append(i)\n",
    "    return a\n"
   ]
  },
  {
   "cell_type": "markdown",
   "id": "f070e6a7",
   "metadata": {},
   "source": [
    "# 여기서 핵심은  int(tmp, n)\n",
    "## tmp에  변환하고 싶은 숫자, n에 원하는 진수를 넣으면 변환해줌\n",
    "### 즉, int(10, 3)이라 하면 10을 3진수로 바꿔줌 \n",
    "# 난 몰랐지;;\n",
    "## 아무리 그래도 이걸 20분 걸리네"
   ]
  },
  {
   "cell_type": "markdown",
   "id": "fc3cbbaa",
   "metadata": {},
   "source": [
    "자연수 n이 매개변수로 주어집니다. n을 3진법 상에서 앞뒤로 뒤집은 후, 이를 다시 10진법으로 표현한 수를 return 하도록 solution 함수를 완성해주세요."
   ]
  },
  {
   "cell_type": "code",
   "execution_count": 145,
   "id": "c1c6a4dd",
   "metadata": {},
   "outputs": [],
   "source": [
    "def solution(n):\n",
    "    answer= real=0\n",
    "    list=[]\n",
    "    remain=\"\"\n",
    "    \n",
    "    while n>0 : \n",
    "        list += str(n%3)\n",
    "        n=int(n/3)\n",
    "        \n",
    "    for i in range(0, len(list)):\n",
    "        remain+=list[i]\n",
    "    \n",
    "    answer=int(remain)\n",
    "    remain=str(answer)\n",
    "    \n",
    "    for i in range(len(remain)):\n",
    "        real+=(answer%10)*(3**i)\n",
    "        answer=int(answer/10)\n",
    "\n",
    "\n",
    "    return real"
   ]
  },
  {
   "cell_type": "code",
   "execution_count": 146,
   "id": "e3d64116",
   "metadata": {},
   "outputs": [
    {
     "data": {
      "text/plain": [
       "7"
      ]
     },
     "execution_count": 146,
     "metadata": {},
     "output_type": "execute_result"
    }
   ],
   "source": [
    "solution(45)"
   ]
  },
  {
   "cell_type": "code",
   "execution_count": 149,
   "id": "2b546992",
   "metadata": {},
   "outputs": [],
   "source": [
    "def solution(n):\n",
    "    tmp = ''\n",
    "    while n:\n",
    "        tmp += str(n % 3)\n",
    "        n = n // 3\n",
    "\n",
    "    answer = int(tmp, 3)\n",
    "    return answer"
   ]
  },
  {
   "cell_type": "code",
   "execution_count": 150,
   "id": "500f6779",
   "metadata": {},
   "outputs": [
    {
     "data": {
      "text/plain": [
       "7"
      ]
     },
     "execution_count": 150,
     "metadata": {},
     "output_type": "execute_result"
    }
   ],
   "source": [
    "solution(45)"
   ]
  },
  {
   "cell_type": "code",
   "execution_count": 151,
   "id": "966b4825",
   "metadata": {},
   "outputs": [],
   "source": [
    "def solution(n):\n",
    "    answer= real=0\n",
    "    remain=\"\"\n",
    "    \n",
    "    while n>0 : \n",
    "        remain += str(n%3)\n",
    "        n=int(n/3)\n",
    "    \n",
    "    answer=int(remain)\n",
    "    remain=str(answer)\n",
    "    \n",
    "    for i in range(len(remain)):\n",
    "        real+=(answer%10)*(3**i)\n",
    "        answer=int(answer/10)\n",
    "\n",
    "\n",
    "    return real"
   ]
  },
  {
   "cell_type": "code",
   "execution_count": 152,
   "id": "b7bb6262",
   "metadata": {},
   "outputs": [
    {
     "data": {
      "text/plain": [
       "7"
      ]
     },
     "execution_count": 152,
     "metadata": {},
     "output_type": "execute_result"
    }
   ],
   "source": [
    "solution(45)"
   ]
  },
  {
   "cell_type": "code",
   "execution_count": null,
   "id": "85cf1fe8",
   "metadata": {},
   "outputs": [],
   "source": []
  }
 ],
 "metadata": {
  "kernelspec": {
   "display_name": "Python 3 (ipykernel)",
   "language": "python",
   "name": "python3"
  },
  "language_info": {
   "codemirror_mode": {
    "name": "ipython",
    "version": 3
   },
   "file_extension": ".py",
   "mimetype": "text/x-python",
   "name": "python",
   "nbconvert_exporter": "python",
   "pygments_lexer": "ipython3",
   "version": "3.9.12"
  }
 },
 "nbformat": 4,
 "nbformat_minor": 5
}
